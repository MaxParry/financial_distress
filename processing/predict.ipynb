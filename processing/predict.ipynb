{
 "cells": [
  {
   "cell_type": "code",
   "execution_count": 1,
   "metadata": {},
   "outputs": [],
   "source": [
    "from sklearn.externals import joblib\n",
    "import pandas as pd"
   ]
  },
  {
   "cell_type": "code",
   "execution_count": 2,
   "metadata": {},
   "outputs": [],
   "source": [
    "age = 27\n",
    "salary = 120000\n",
    "dependents = 7\n",
    "creditLine = 6\n",
    "creditLimit = 9000\n",
    "realEstate = 8\n",
    "monthlySpend = 1750\n",
    "totalDebt = 3000\n",
    "overdue = 10"
   ]
  },
  {
   "cell_type": "code",
   "execution_count": 3,
   "metadata": {},
   "outputs": [],
   "source": [
    "valueDict = {\n",
    "                'age': 45,\n",
    "                'MonthlyIncome': 9120,\n",
    "                'NumberOfDependents': 2,\n",
    "                'NumberOfOpenCreditLinesAndLoans': 13,\n",
    "                'RevolvingUtilizationOfUnsecuredLines': 0.766126609,\n",
    "                'NumberRealEstateLoansOrLines': 6,\n",
    "                'DebtRatio': 0.802982129,\n",
    "                'MonthlyCosts' : 0.802982129*9120,\n",
    "                'NumTimesPastDue': 2\n",
    "            }"
   ]
  },
  {
   "cell_type": "code",
   "execution_count": 11,
   "metadata": {},
   "outputs": [
    {
     "name": "stdout",
     "output_type": "stream",
     "text": [
      "RevolvingUtilizationOfUnsecuredLines feature strength:  0.7318065423857062\n",
      "---------\n",
      "age feature strength:  -0.2902783726823628\n",
      "---------\n",
      "NumberOfTime30to59DaysPastDueNotWorse feature strength:  0.39654811375020543\n",
      "---------\n",
      "DebtRatio feature strength:  0.08910545938844612\n",
      "---------\n",
      "MonthlyIncome feature strength:  -0.12598148137668694\n",
      "---------\n",
      "NumberOfOpenCreditLinesAndLoans feature strength:  0.17194905489043819\n",
      "---------\n",
      "NumberOfTimes90DaysLate feature strength:  0.5042644024450241\n",
      "---------\n",
      "NumberRealEstateLoansOrLines feature strength:  0.10070840742153774\n",
      "---------\n",
      "NumberOfTime60to89DaysPastDueNotWorse feature strength:  0.31199186658597133\n",
      "---------\n",
      "NumberOfDependents feature strength:  0.028814382560954994\n",
      "---------\n"
     ]
    }
   ],
   "source": [
    "from modelTuning import add_incomeperdependent_column"
   ]
  },
  {
   "cell_type": "code",
   "execution_count": null,
   "metadata": {},
   "outputs": [],
   "source": []
  },
  {
   "cell_type": "code",
   "execution_count": null,
   "metadata": {},
   "outputs": [],
   "source": [
    "df = makePredictions(valueDict)"
   ]
  },
  {
   "cell_type": "code",
   "execution_count": null,
   "metadata": {},
   "outputs": [],
   "source": [
    "df"
   ]
  },
  {
   "cell_type": "code",
   "execution_count": null,
   "metadata": {},
   "outputs": [],
   "source": [
    "X = df"
   ]
  },
  {
   "cell_type": "code",
   "execution_count": null,
   "metadata": {},
   "outputs": [],
   "source": [
    "len(X.columns)"
   ]
  },
  {
   "cell_type": "code",
   "execution_count": null,
   "metadata": {},
   "outputs": [],
   "source": [
    "for col in X.columns:\n",
    "    print(col)"
   ]
  },
  {
   "cell_type": "code",
   "execution_count": null,
   "metadata": {},
   "outputs": [],
   "source": [
    "{'MonthlyIncome': {0: 10000.0},\n",
    " 'NumTimesPastDue': {0: 10},\n",
    " 'NumberOfDependents': {0: 7},\n",
    " 'NumberOfOpenCreditLinesAndLoans': {0: 6},\n",
    " 'NumberRealEstateLoansOrLines': {0: 8},\n",
    " 'RevolvingUtilizationOfUnsecuredLines': {0: 0.3333333333333333},\n",
    " 'age': {0: 27},\n",
    " 'IncomePerDependent': {0: 1250.0},\n",
    " 'MonthlyIncome_above10000': {0: 1.0},\n",
    " 'NumTimesPastDue_below5': {0: 0.0},\n",
    " 'age_below21': {0: 0.0},\n",
    " 'age_above65': {0: 0.0}}"
   ]
  },
  {
   "cell_type": "code",
   "execution_count": null,
   "metadata": {},
   "outputs": [],
   "source": [
    "from sklearn.preprocessing import StandardScaler"
   ]
  },
  {
   "cell_type": "code",
   "execution_count": null,
   "metadata": {},
   "outputs": [],
   "source": [
    "X_scaler = joblib.load('../model/fitted_X_scaler_v1.pkl')\n",
    "X_scaled = X_scaler.transform(X)"
   ]
  },
  {
   "cell_type": "code",
   "execution_count": null,
   "metadata": {},
   "outputs": [],
   "source": [
    "model = joblib.load('../model/trained_default_model_v1.pkl')"
   ]
  },
  {
   "cell_type": "code",
   "execution_count": null,
   "metadata": {},
   "outputs": [],
   "source": [
    "class_prediction = model.predict(X_scaled)\n",
    "probability_prediction = model.predict_proba(X_scaled)"
   ]
  },
  {
   "cell_type": "code",
   "execution_count": null,
   "metadata": {},
   "outputs": [],
   "source": [
    "type(class_prediction[0])"
   ]
  },
  {
   "cell_type": "code",
   "execution_count": null,
   "metadata": {},
   "outputs": [],
   "source": [
    "X_scaled.shape"
   ]
  },
  {
   "cell_type": "code",
   "execution_count": null,
   "metadata": {},
   "outputs": [],
   "source": [
    "probability_prediction[0][0]"
   ]
  },
  {
   "cell_type": "code",
   "execution_count": null,
   "metadata": {},
   "outputs": [],
   "source": [
    "predictions = {\n",
    "    'class': class_prediction[0].item(),\n",
    "    'probability': probability_prediction[0][1].item()\n",
    "}"
   ]
  },
  {
   "cell_type": "code",
   "execution_count": null,
   "metadata": {},
   "outputs": [],
   "source": [
    "predictions['class']"
   ]
  },
  {
   "cell_type": "code",
   "execution_count": null,
   "metadata": {},
   "outputs": [],
   "source": [
    "predictions['probability']"
   ]
  },
  {
   "cell_type": "code",
   "execution_count": null,
   "metadata": {},
   "outputs": [],
   "source": []
  },
  {
   "cell_type": "code",
   "execution_count": null,
   "metadata": {},
   "outputs": [],
   "source": []
  }
 ],
 "metadata": {
  "kernelspec": {
   "display_name": "Python 3",
   "language": "python",
   "name": "python3"
  },
  "language_info": {
   "codemirror_mode": {
    "name": "ipython",
    "version": 3
   },
   "file_extension": ".py",
   "mimetype": "text/x-python",
   "name": "python",
   "nbconvert_exporter": "python",
   "pygments_lexer": "ipython3",
   "version": "3.6.4"
  }
 },
 "nbformat": 4,
 "nbformat_minor": 2
}
