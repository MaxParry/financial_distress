{
 "cells": [
  {
   "cell_type": "markdown",
   "metadata": {
    "collapsed": true
   },
   "source": [
    "# Predicting Financial Distress Notebook\n",
    "- Dataset can be found at: https://www.kaggle.com/c/GiveMeSomeCredit\n",
    "    - Contains historical data on 150,000 borrowers\n",
    "        - Labels are binary: defaulted or didn't default (SeriousDlqin2yrs)\n",
    "    - Goal is to predict default risk on holdout set"
   ]
  },
  {
   "cell_type": "code",
   "execution_count": 1,
   "metadata": {},
   "outputs": [],
   "source": [
    "# Import dependencies\n",
    "%matplotlib inline\n",
    "import matplotlib.pyplot as plt\n",
    "import numpy as np\n",
    "import pandas as pd\n",
    "\n",
    "\n",
    "from sklearn.datasets import make_regression\n",
    "from sklearn.model_selection import train_test_split\n",
    "from sklearn.preprocessing import StandardScaler\n",
    "\n",
    "from collections import Counter\n",
    "\n",
    "import seaborn as sns"
   ]
  },
  {
   "cell_type": "code",
   "execution_count": 2,
   "metadata": {},
   "outputs": [],
   "source": [
    "# Read CSV\n",
    "df = pd.read_csv('../data/cs-training.csv')\n",
    "df = df.drop('Unnamed: 0', axis=1)"
   ]
  },
  {
   "cell_type": "code",
   "execution_count": 3,
   "metadata": {},
   "outputs": [],
   "source": [
    "#df = df.dropna()"
   ]
  },
  {
   "cell_type": "code",
   "execution_count": null,
   "metadata": {},
   "outputs": [],
   "source": []
  },
  {
   "cell_type": "code",
   "execution_count": 4,
   "metadata": {},
   "outputs": [],
   "source": [
    "# Clean column names\n",
    "cleanCol = []\n",
    "for i in range(len(df.columns)):\n",
    "    cleanCol.append(df.columns[i].replace('-', 'to'))\n",
    "    \n",
    "df.columns = cleanCol"
   ]
  },
  {
   "cell_type": "code",
   "execution_count": 5,
   "metadata": {},
   "outputs": [],
   "source": [
    "# Calculate std dev values\n",
    "def findStd(series,num):\n",
    "    mean = series.mean()\n",
    "    stdDev = series.std()\n",
    "    std_pos = mean + num*stdDev\n",
    "    std_neg = mean - num*stdDev\n",
    "    \n",
    "    stdValues = {\n",
    "        'std+': std_pos,\n",
    "        'std-': std_neg\n",
    "    }\n",
    "    \n",
    "    return stdValues"
   ]
  },
  {
   "cell_type": "code",
   "execution_count": 6,
   "metadata": {},
   "outputs": [],
   "source": [
    "def standardizeValues(dfColumn,stdRet,columnName,classifier='mean',compareColumn='N/A',lookupTable='N/A'):\n",
    "    if classifier == 'lookup':\n",
    "        df.loc[dfColumn.isnull(),columnName] = compareColumn.map(lookupTable)\n",
    "        df.loc[dfColumn>stdRet['std+'],columnName] = compareColumn.map(lookupTable)\n",
    "        df.loc[dfColumn<stdRet['std-'],columnName] = compareColumn.map(lookupTable)\n",
    "    elif classifier == 'median':\n",
    "        df.loc[dfColumn.isnull(),columnName] = dfColumn.median()\n",
    "        df.loc[dfColumn>stdRet['std+'],columnName] = dfColumn.median()\n",
    "        df.loc[dfColumn<stdRet['std-'],columnName] = dfColumn.median()\n",
    "    else:\n",
    "        df.loc[dfColumn.isnull(),columnName] = dfColumn.mean()\n",
    "        df.loc[dfColumn>stdRet['std+'],columnName] = dfColumn.mean()\n",
    "        df.loc[dfColumn<stdRet['std-'],columnName] = dfColumn.mean()"
   ]
  },
  {
   "cell_type": "code",
   "execution_count": 7,
   "metadata": {},
   "outputs": [],
   "source": [
    "def standardizePlaceholders(dfColumn,columnName,classifier='mean'):\n",
    "    if classifier == 'median':\n",
    "        df.loc[dfColumn==98,columnName] = dfColumn.median()\n",
    "        df.loc[dfColumn==96,columnName] = dfColumn.median()\n",
    "        \n",
    "    else:\n",
    "        df.loc[dfColumn==98,columnName] = dfColumn.mean()\n",
    "        df.loc[dfColumn==98,columnName] = dfColumn.mean()"
   ]
  },
  {
   "cell_type": "code",
   "execution_count": 8,
   "metadata": {},
   "outputs": [],
   "source": [
    "# Get std deviation and replace outliers\n",
    "ageStd = findStd(df.age,3)\n",
    "standardizeValues(df.age,ageStd,'age')\n",
    "df.age = df.age.astype(int)"
   ]
  },
  {
   "cell_type": "code",
   "execution_count": 9,
   "metadata": {},
   "outputs": [],
   "source": [
    "# Drop NAN from OG DF\n",
    "df_MI = df[['age','MonthlyIncome']]"
   ]
  },
  {
   "cell_type": "code",
   "execution_count": 10,
   "metadata": {},
   "outputs": [],
   "source": [
    "df_MIsansNAN = df_MI.dropna(axis=0, how='any')\n",
    "\n",
    "# Remove Income Outliers outside of 3 STD\n",
    "df_MIsansNAN_std = df_MIsansNAN[np.abs(df_MIsansNAN.MonthlyIncome-df_MIsansNAN.MonthlyIncome.mean())<=(3*df_MIsansNAN.MonthlyIncome.std())]"
   ]
  },
  {
   "cell_type": "code",
   "execution_count": 11,
   "metadata": {},
   "outputs": [],
   "source": [
    "# Create lookup table for mean per age\n",
    "ageSalaryLookup = pd.DataFrame(df_MIsansNAN_std.groupby(['age']).MonthlyIncome.mean())"
   ]
  },
  {
   "cell_type": "code",
   "execution_count": 12,
   "metadata": {},
   "outputs": [],
   "source": [
    "# Find all values 3x std\n",
    "incomeStd = findStd(df_MIsansNAN_std.MonthlyIncome,3)\n",
    "standardizeValues(df.MonthlyIncome,incomeStd,'MonthlyIncome','lookup',df.age,ageSalaryLookup.MonthlyIncome)"
   ]
  },
  {
   "cell_type": "code",
   "execution_count": 13,
   "metadata": {},
   "outputs": [],
   "source": [
    "# Define deviation and replace outliers\n",
    "revLnStd = {'std+': 2, 'std-': 0}\n",
    "standardizeValues(df.RevolvingUtilizationOfUnsecuredLines,revLnStd,'RevolvingUtilizationOfUnsecuredLines','median')"
   ]
  },
  {
   "cell_type": "code",
   "execution_count": 14,
   "metadata": {},
   "outputs": [],
   "source": [
    "# Replace placeholders with the median\n",
    "standardizePlaceholders(df.NumberOfTime30to59DaysPastDueNotWorse,'NumberOfTime30to59DaysPastDueNotWorse','median')"
   ]
  },
  {
   "cell_type": "code",
   "execution_count": 15,
   "metadata": {},
   "outputs": [],
   "source": [
    "debtRatioStd = {'std+': 2, 'std-': 0}\n",
    "standardizeValues(df.DebtRatio,debtRatioStd,'DebtRatio','median')"
   ]
  },
  {
   "cell_type": "code",
   "execution_count": 16,
   "metadata": {},
   "outputs": [],
   "source": [
    "# Replace placeholders with the median\n",
    "standardizePlaceholders(df.NumberOfTimes90DaysLate,'NumberOfTimes90DaysLate','median')\n",
    "df.NumberOfTimes90DaysLate = df.NumberOfTimes90DaysLate.astype(int)"
   ]
  },
  {
   "cell_type": "code",
   "execution_count": 17,
   "metadata": {},
   "outputs": [],
   "source": [
    "# Replace placeholders with the median\n",
    "standardizePlaceholders(df.NumberOfTime60to89DaysPastDueNotWorse,'NumberOfTime60to89DaysPastDueNotWorse','median')\n",
    "df.NumberOfTime60to89DaysPastDueNotWorse = df.NumberOfTime60to89DaysPastDueNotWorse.astype(int)"
   ]
  },
  {
   "cell_type": "code",
   "execution_count": 18,
   "metadata": {},
   "outputs": [],
   "source": [
    "# Drop NAN from OG DF\n",
    "df_D = df[['NumberOfDependents']]\n",
    "df_DsansNAN = df_D.dropna(axis=0, how='any')"
   ]
  },
  {
   "cell_type": "code",
   "execution_count": 19,
   "metadata": {},
   "outputs": [],
   "source": [
    "# Define deviation and replace outliers\n",
    "depStd = {'std+': df.NumberOfDependents.max(), 'std-': df.NumberOfDependents.min()}\n",
    "standardizeValues(df.NumberOfDependents,depStd,'NumberOfDependents','median')"
   ]
  },
  {
   "cell_type": "code",
   "execution_count": 20,
   "metadata": {},
   "outputs": [
    {
     "data": {
      "text/html": [
       "<div>\n",
       "<style scoped>\n",
       "    .dataframe tbody tr th:only-of-type {\n",
       "        vertical-align: middle;\n",
       "    }\n",
       "\n",
       "    .dataframe tbody tr th {\n",
       "        vertical-align: top;\n",
       "    }\n",
       "\n",
       "    .dataframe thead th {\n",
       "        text-align: right;\n",
       "    }\n",
       "</style>\n",
       "<table border=\"1\" class=\"dataframe\">\n",
       "  <thead>\n",
       "    <tr style=\"text-align: right;\">\n",
       "      <th></th>\n",
       "      <th>SeriousDlqin2yrs</th>\n",
       "      <th>RevolvingUtilizationOfUnsecuredLines</th>\n",
       "      <th>age</th>\n",
       "      <th>NumberOfTime30to59DaysPastDueNotWorse</th>\n",
       "      <th>DebtRatio</th>\n",
       "      <th>MonthlyIncome</th>\n",
       "      <th>NumberOfOpenCreditLinesAndLoans</th>\n",
       "      <th>NumberOfTimes90DaysLate</th>\n",
       "      <th>NumberRealEstateLoansOrLines</th>\n",
       "      <th>NumberOfTime60to89DaysPastDueNotWorse</th>\n",
       "      <th>NumberOfDependents</th>\n",
       "    </tr>\n",
       "  </thead>\n",
       "  <tbody>\n",
       "    <tr>\n",
       "      <th>count</th>\n",
       "      <td>150000.000000</td>\n",
       "      <td>150000.000000</td>\n",
       "      <td>150000.000000</td>\n",
       "      <td>150000.000000</td>\n",
       "      <td>150000.000000</td>\n",
       "      <td>150000.000000</td>\n",
       "      <td>150000.000000</td>\n",
       "      <td>150000.000000</td>\n",
       "      <td>150000.000000</td>\n",
       "      <td>150000.000000</td>\n",
       "      <td>150000.000000</td>\n",
       "    </tr>\n",
       "    <tr>\n",
       "      <th>mean</th>\n",
       "      <td>0.066840</td>\n",
       "      <td>0.319924</td>\n",
       "      <td>52.281313</td>\n",
       "      <td>0.245353</td>\n",
       "      <td>0.344349</td>\n",
       "      <td>6114.110913</td>\n",
       "      <td>8.452760</td>\n",
       "      <td>0.090293</td>\n",
       "      <td>1.018240</td>\n",
       "      <td>0.064707</td>\n",
       "      <td>0.737413</td>\n",
       "    </tr>\n",
       "    <tr>\n",
       "      <th>std</th>\n",
       "      <td>0.249746</td>\n",
       "      <td>0.355123</td>\n",
       "      <td>14.748528</td>\n",
       "      <td>0.697231</td>\n",
       "      <td>0.263902</td>\n",
       "      <td>3336.776302</td>\n",
       "      <td>5.145951</td>\n",
       "      <td>0.485107</td>\n",
       "      <td>1.129771</td>\n",
       "      <td>0.329788</td>\n",
       "      <td>1.107021</td>\n",
       "    </tr>\n",
       "    <tr>\n",
       "      <th>min</th>\n",
       "      <td>0.000000</td>\n",
       "      <td>0.000000</td>\n",
       "      <td>21.000000</td>\n",
       "      <td>0.000000</td>\n",
       "      <td>0.000000</td>\n",
       "      <td>0.000000</td>\n",
       "      <td>0.000000</td>\n",
       "      <td>0.000000</td>\n",
       "      <td>0.000000</td>\n",
       "      <td>0.000000</td>\n",
       "      <td>0.000000</td>\n",
       "    </tr>\n",
       "    <tr>\n",
       "      <th>25%</th>\n",
       "      <td>0.000000</td>\n",
       "      <td>0.029867</td>\n",
       "      <td>41.000000</td>\n",
       "      <td>0.000000</td>\n",
       "      <td>0.175074</td>\n",
       "      <td>3800.000000</td>\n",
       "      <td>5.000000</td>\n",
       "      <td>0.000000</td>\n",
       "      <td>0.000000</td>\n",
       "      <td>0.000000</td>\n",
       "      <td>0.000000</td>\n",
       "    </tr>\n",
       "    <tr>\n",
       "      <th>50%</th>\n",
       "      <td>0.000000</td>\n",
       "      <td>0.154178</td>\n",
       "      <td>52.000000</td>\n",
       "      <td>0.000000</td>\n",
       "      <td>0.366506</td>\n",
       "      <td>5900.000000</td>\n",
       "      <td>8.000000</td>\n",
       "      <td>0.000000</td>\n",
       "      <td>1.000000</td>\n",
       "      <td>0.000000</td>\n",
       "      <td>0.000000</td>\n",
       "    </tr>\n",
       "    <tr>\n",
       "      <th>75%</th>\n",
       "      <td>0.000000</td>\n",
       "      <td>0.552810</td>\n",
       "      <td>63.000000</td>\n",
       "      <td>0.000000</td>\n",
       "      <td>0.405709</td>\n",
       "      <td>7405.250000</td>\n",
       "      <td>11.000000</td>\n",
       "      <td>0.000000</td>\n",
       "      <td>2.000000</td>\n",
       "      <td>0.000000</td>\n",
       "      <td>1.000000</td>\n",
       "    </tr>\n",
       "    <tr>\n",
       "      <th>max</th>\n",
       "      <td>1.000000</td>\n",
       "      <td>1.998676</td>\n",
       "      <td>96.000000</td>\n",
       "      <td>13.000000</td>\n",
       "      <td>2.000000</td>\n",
       "      <td>20087.000000</td>\n",
       "      <td>58.000000</td>\n",
       "      <td>17.000000</td>\n",
       "      <td>54.000000</td>\n",
       "      <td>11.000000</td>\n",
       "      <td>20.000000</td>\n",
       "    </tr>\n",
       "  </tbody>\n",
       "</table>\n",
       "</div>"
      ],
      "text/plain": [
       "       SeriousDlqin2yrs  RevolvingUtilizationOfUnsecuredLines            age  \\\n",
       "count     150000.000000                         150000.000000  150000.000000   \n",
       "mean           0.066840                              0.319924      52.281313   \n",
       "std            0.249746                              0.355123      14.748528   \n",
       "min            0.000000                              0.000000      21.000000   \n",
       "25%            0.000000                              0.029867      41.000000   \n",
       "50%            0.000000                              0.154178      52.000000   \n",
       "75%            0.000000                              0.552810      63.000000   \n",
       "max            1.000000                              1.998676      96.000000   \n",
       "\n",
       "       NumberOfTime30to59DaysPastDueNotWorse      DebtRatio  MonthlyIncome  \\\n",
       "count                          150000.000000  150000.000000  150000.000000   \n",
       "mean                                0.245353       0.344349    6114.110913   \n",
       "std                                 0.697231       0.263902    3336.776302   \n",
       "min                                 0.000000       0.000000       0.000000   \n",
       "25%                                 0.000000       0.175074    3800.000000   \n",
       "50%                                 0.000000       0.366506    5900.000000   \n",
       "75%                                 0.000000       0.405709    7405.250000   \n",
       "max                                13.000000       2.000000   20087.000000   \n",
       "\n",
       "       NumberOfOpenCreditLinesAndLoans  NumberOfTimes90DaysLate  \\\n",
       "count                    150000.000000            150000.000000   \n",
       "mean                          8.452760                 0.090293   \n",
       "std                           5.145951                 0.485107   \n",
       "min                           0.000000                 0.000000   \n",
       "25%                           5.000000                 0.000000   \n",
       "50%                           8.000000                 0.000000   \n",
       "75%                          11.000000                 0.000000   \n",
       "max                          58.000000                17.000000   \n",
       "\n",
       "       NumberRealEstateLoansOrLines  NumberOfTime60to89DaysPastDueNotWorse  \\\n",
       "count                 150000.000000                          150000.000000   \n",
       "mean                       1.018240                               0.064707   \n",
       "std                        1.129771                               0.329788   \n",
       "min                        0.000000                               0.000000   \n",
       "25%                        0.000000                               0.000000   \n",
       "50%                        1.000000                               0.000000   \n",
       "75%                        2.000000                               0.000000   \n",
       "max                       54.000000                              11.000000   \n",
       "\n",
       "       NumberOfDependents  \n",
       "count       150000.000000  \n",
       "mean             0.737413  \n",
       "std              1.107021  \n",
       "min              0.000000  \n",
       "25%              0.000000  \n",
       "50%              0.000000  \n",
       "75%              1.000000  \n",
       "max             20.000000  "
      ]
     },
     "execution_count": 20,
     "metadata": {},
     "output_type": "execute_result"
    }
   ],
   "source": [
    "df.describe()"
   ]
  },
  {
   "cell_type": "code",
   "execution_count": null,
   "metadata": {},
   "outputs": [],
   "source": []
  },
  {
   "cell_type": "code",
   "execution_count": null,
   "metadata": {},
   "outputs": [],
   "source": []
  },
  {
   "cell_type": "markdown",
   "metadata": {},
   "source": [
    "### Add MonthlyCosts column"
   ]
  },
  {
   "cell_type": "code",
   "execution_count": 21,
   "metadata": {},
   "outputs": [],
   "source": [
    "# write function to multiply DebtRatio by MonthlyIncome and put the result in a new column\n",
    "def add_monthlycosts_column(dataframe):\n",
    "    dataframe_copy = dataframe.copy()\n",
    "    dataframe_copy['MonthlyCosts'] = dataframe_copy['DebtRatio'] * dataframe_copy['MonthlyIncome']\n",
    "    \n",
    "    return dataframe_copy"
   ]
  },
  {
   "cell_type": "markdown",
   "metadata": {},
   "source": [
    "### Add IncomePerDependent column"
   ]
  },
  {
   "cell_type": "code",
   "execution_count": 22,
   "metadata": {},
   "outputs": [],
   "source": [
    "# write function to divide MonthlyIncome by (NumberOfDependents + 1) and put the result in a new column\n",
    "def add_incomeperdependent_column(dataframe):\n",
    "    dataframe_copy = dataframe.copy()\n",
    "    dataframe_copy['IncomePerDependent'] = dataframe_copy['MonthlyIncome'] / (dataframe_copy['NumberOfDependents'] + 1)\n",
    "    \n",
    "    return dataframe_copy"
   ]
  },
  {
   "cell_type": "markdown",
   "metadata": {},
   "source": [
    "### Add NumTimesPastDue column"
   ]
  },
  {
   "cell_type": "code",
   "execution_count": 23,
   "metadata": {},
   "outputs": [],
   "source": [
    "# write function to divide MonthlyIncome by (NumberOfDependents + 1) and put the result in a new column\n",
    "# the function also drops the original columns\n",
    "def add_numtimespastdue_column(dataframe):\n",
    "    dataframe_copy = dataframe.copy()\n",
    "    dataframe_copy['NumTimesPastDue'] = (dataframe_copy['NumberOfTime30to59DaysPastDueNotWorse'] +\n",
    "                                         dataframe_copy['NumberOfTime60to89DaysPastDueNotWorse'] +\n",
    "                                         dataframe_copy['NumberOfTimes90DaysLate'])\n",
    "    \n",
    "    dataframe_copy = dataframe_copy.drop('NumberOfTime30to59DaysPastDueNotWorse', axis=1)\n",
    "    dataframe_copy = dataframe_copy.drop('NumberOfTime60to89DaysPastDueNotWorse', axis=1)\n",
    "    dataframe_copy = dataframe_copy.drop('NumberOfTimes90DaysLate', axis=1)\n",
    "    \n",
    "    return dataframe_copy"
   ]
  },
  {
   "cell_type": "markdown",
   "metadata": {},
   "source": [
    "### Function to write indicator variable columns:"
   ]
  },
  {
   "cell_type": "code",
   "execution_count": 24,
   "metadata": {},
   "outputs": [],
   "source": [
    "# define function to label rows with high monthly income with a 1 (in a new column)\n",
    "def add_indicator_column(dataframe, threshold, column_name, direction='above'):\n",
    "    dataframe_copy = dataframe.copy()\n",
    "    labels = []\n",
    "    if direction == 'above':\n",
    "        for index, row in dataframe_copy.iterrows():\n",
    "            value = row[column_name]\n",
    "            if value >= threshold:\n",
    "                labels.append(float(1))\n",
    "            elif value < threshold:\n",
    "                labels.append(float(0))\n",
    "            else:\n",
    "                print('Error in add_indicator_column(): Base case reached')\n",
    "    elif direction == 'below':\n",
    "        for index, row in dataframe_copy.iterrows():\n",
    "            value = row[column_name]\n",
    "            if value <= threshold:\n",
    "                labels.append(float(1))\n",
    "            elif value > threshold:\n",
    "                labels.append(float(0))\n",
    "            else:\n",
    "                print('Error in add_indicator_column(): Base case reached')\n",
    "    if len(dataframe_copy) == len(labels):\n",
    "        dataframe_copy[(str(column_name) + '_' + str(direction) + str(threshold))] = pd.Series(labels)\n",
    "    else:\n",
    "        print('Error in add_indicator_column(): Missing labels')\n",
    "    return dataframe_copy"
   ]
  },
  {
   "cell_type": "markdown",
   "metadata": {},
   "source": []
  },
  {
   "cell_type": "code",
   "execution_count": null,
   "metadata": {},
   "outputs": [],
   "source": []
  },
  {
   "cell_type": "code",
   "execution_count": 25,
   "metadata": {},
   "outputs": [],
   "source": [
    "# outside of function\n",
    "\n",
    "# feature engineering steps\n",
    "# dataframe_copy = add_incomeoverrevolving_column(dataframe_copy)\n",
    "\n",
    "\n",
    "df = add_monthlycosts_column(df)\n",
    "\n",
    "df = add_incomeperdependent_column(df)\n",
    "df = add_numtimespastdue_column(df)\n",
    "df = add_indicator_column(df, 10000, 'MonthlyIncome', direction='above')\n",
    "df = add_indicator_column(df, 5, 'NumTimesPastDue', direction='below')\n",
    "df = add_indicator_column(df, 21, 'age', direction='below')\n",
    "df = add_indicator_column(df, 65, 'age', direction='above')\n",
    "    \n",
    "# dropping multicollinear features\n",
    "df = df.drop('DebtRatio', axis=1)"
   ]
  },
  {
   "cell_type": "markdown",
   "metadata": {},
   "source": [
    "### Check for multicollinearity\n",
    "- new features, new possible multicollinearities"
   ]
  },
  {
   "cell_type": "code",
   "execution_count": 26,
   "metadata": {},
   "outputs": [
    {
     "data": {
      "text/plain": [
       "<matplotlib.axes._subplots.AxesSubplot at 0x10abbe860>"
      ]
     },
     "execution_count": 26,
     "metadata": {},
     "output_type": "execute_result"
    },
    {
     "data": {
      "image/png": "[encoded data removed]",
      "text/plain": [
       "<matplotlib.figure.Figure at 0x1132b0080>"
      ]
     },
     "metadata": {},
     "output_type": "display_data"
    }
   ],
   "source": [
    "plt.figure(figsize=(11,9))\n",
    "sns.heatmap(df.corr(), annot=True, fmt=\".2g\")"
   ]
  },
  {
   "cell_type": "code",
   "execution_count": null,
   "metadata": {},
   "outputs": [],
   "source": []
  },
  {
   "cell_type": "code",
   "execution_count": null,
   "metadata": {},
   "outputs": [],
   "source": []
  },
  {
   "cell_type": "code",
   "execution_count": null,
   "metadata": {},
   "outputs": [],
   "source": []
  },
  {
   "cell_type": "markdown",
   "metadata": {},
   "source": [
    "## Step 11: Fit Scaler and Transform Data\n"
   ]
  },
  {
   "cell_type": "code",
   "execution_count": 27,
   "metadata": {},
   "outputs": [],
   "source": [
    "X = df.drop('SeriousDlqin2yrs', axis=1)\n",
    "y = df.SeriousDlqin2yrs"
   ]
  },
  {
   "cell_type": "code",
   "execution_count": 28,
   "metadata": {},
   "outputs": [],
   "source": [
    "from sklearn.model_selection import train_test_split\n",
    "\n",
    "X_train, X_test, y_train, y_test = train_test_split(X, y, random_state=42)"
   ]
  },
  {
   "cell_type": "code",
   "execution_count": 29,
   "metadata": {},
   "outputs": [],
   "source": [
    "# fit StandardScaler and use it to transform both training and testing data\n",
    "from sklearn.preprocessing import StandardScaler\n",
    "\n",
    "X_scaler = StandardScaler().fit(X_train)\n",
    "\n",
    "X_train_scaled = X_scaler.transform(X_train)\n",
    "X_test_scaled = X_scaler.transform(X_test)"
   ]
  },
  {
   "cell_type": "code",
   "execution_count": null,
   "metadata": {},
   "outputs": [],
   "source": []
  },
  {
   "cell_type": "code",
   "execution_count": null,
   "metadata": {},
   "outputs": [],
   "source": []
  },
  {
   "cell_type": "code",
   "execution_count": null,
   "metadata": {},
   "outputs": [],
   "source": []
  },
  {
   "cell_type": "code",
   "execution_count": null,
   "metadata": {},
   "outputs": [],
   "source": []
  },
  {
   "cell_type": "markdown",
   "metadata": {},
   "source": [
    "## Step 12: Fit Model and Make Predictions"
   ]
  },
  {
   "cell_type": "code",
   "execution_count": 30,
   "metadata": {},
   "outputs": [],
   "source": [
    "# instantiate logistic regression model\n",
    "from sklearn.linear_model import LogisticRegression\n",
    "\n",
    "model = LogisticRegression()"
   ]
  },
  {
   "cell_type": "code",
   "execution_count": 31,
   "metadata": {},
   "outputs": [
    {
     "data": {
      "text/plain": [
       "LogisticRegression(C=1.0, class_weight=None, dual=False, fit_intercept=True,\n",
       "          intercept_scaling=1, max_iter=100, multi_class='ovr', n_jobs=1,\n",
       "          penalty='l2', random_state=None, solver='liblinear', tol=0.0001,\n",
       "          verbose=0, warm_start=False)"
      ]
     },
     "execution_count": 31,
     "metadata": {},
     "output_type": "execute_result"
    }
   ],
   "source": [
    "# fit the model on the cleaned training data\n",
    "model.fit(X_train_scaled, y_train)"
   ]
  },
  {
   "cell_type": "code",
   "execution_count": 32,
   "metadata": {},
   "outputs": [],
   "source": [
    "# make predictions on training set (want to evaluate model performance on training set first, then testing set)\n",
    "class_predictions_training = model.predict(X_train_scaled)\n",
    "probability_predictions_training = model.predict_proba(X_train_scaled)"
   ]
  },
  {
   "cell_type": "code",
   "execution_count": 33,
   "metadata": {},
   "outputs": [
    {
     "data": {
      "text/plain": [
       "array([0, 0, 0, ..., 0, 0, 0])"
      ]
     },
     "execution_count": 33,
     "metadata": {},
     "output_type": "execute_result"
    }
   ],
   "source": [
    "class_predictions_training"
   ]
  },
  {
   "cell_type": "code",
   "execution_count": 34,
   "metadata": {},
   "outputs": [
    {
     "data": {
      "text/plain": [
       "array([[ 0.98066925,  0.01933075],\n",
       "       [ 0.981957  ,  0.018043  ],\n",
       "       [ 0.98603725,  0.01396275],\n",
       "       [ 0.85165653,  0.14834347],\n",
       "       [ 0.96912701,  0.03087299]])"
      ]
     },
     "execution_count": 34,
     "metadata": {},
     "output_type": "execute_result"
    }
   ],
   "source": [
    "probability_predictions_training[:5,:]"
   ]
  },
  {
   "cell_type": "markdown",
   "metadata": {
    "collapsed": true
   },
   "source": [
    "#### What is returned from ```model.predict_proba()``` is an array with the probability of each class for a given row\n",
    "- negative class (no default in our case) is in the first column of the array, positive in the second\n",
    "- ```roc_curve()``` function takes at least two arguments:\n",
    "    - first, the true labels\n",
    "    - second, the probability of the positive class (defaulted, in our case)"
   ]
  },
  {
   "cell_type": "code",
   "execution_count": 35,
   "metadata": {},
   "outputs": [
    {
     "data": {
      "text/plain": [
       "array([ 0.01933075,  0.018043  ,  0.01396275, ...,  0.02386315,\n",
       "        0.03007668,  0.04443507])"
      ]
     },
     "execution_count": 35,
     "metadata": {},
     "output_type": "execute_result"
    }
   ],
   "source": [
    "# y_train has the true labels, however probability_predictions has both negative and positive class in the array\n",
    "# to isolate positive predictions, we will slice the array to include only second column\n",
    "positive_probability_predictions_training = probability_predictions_training[:,1]\n",
    "positive_probability_predictions_training"
   ]
  },
  {
   "cell_type": "code",
   "execution_count": 36,
   "metadata": {},
   "outputs": [],
   "source": [
    "# run roc_curve\n",
    "from sklearn.metrics import roc_curve, roc_auc_score\n",
    "\n",
    "fpr_training, tpr_training, thresholds_training = roc_curve(y_train, positive_probability_predictions_training)"
   ]
  },
  {
   "cell_type": "code",
   "execution_count": 37,
   "metadata": {},
   "outputs": [
    {
     "data": {
      "text/plain": [
       "[<matplotlib.lines.Line2D at 0x1a1be0aa90>]"
      ]
     },
     "execution_count": 37,
     "metadata": {},
     "output_type": "execute_result"
    },
    {
     "data": {
      "image/png": "[encoded data removed]",
      "text/plain": [
       "<matplotlib.figure.Figure at 0x1a1afb8f60>"
      ]
     },
     "metadata": {},
     "output_type": "display_data"
    }
   ],
   "source": [
    "# plot curve for training data\n",
    "plt.plot(fpr_training, tpr_training)"
   ]
  },
  {
   "cell_type": "code",
   "execution_count": 38,
   "metadata": {},
   "outputs": [
    {
     "name": "stdout",
     "output_type": "stream",
     "text": [
      "AUC:  0.85198528468\n"
     ]
    }
   ],
   "source": [
    "# print AUC for training data\n",
    "AUC_score_training = roc_auc_score(y_train, positive_probability_predictions_training)\n",
    "print('AUC: ', AUC_score_training)"
   ]
  },
  {
   "cell_type": "code",
   "execution_count": null,
   "metadata": {},
   "outputs": [],
   "source": []
  },
  {
   "cell_type": "code",
   "execution_count": null,
   "metadata": {},
   "outputs": [],
   "source": []
  },
  {
   "cell_type": "code",
   "execution_count": null,
   "metadata": {},
   "outputs": [],
   "source": []
  },
  {
   "cell_type": "markdown",
   "metadata": {},
   "source": [
    "## Step 13: Evaluate Model on Testing Set"
   ]
  },
  {
   "cell_type": "code",
   "execution_count": 39,
   "metadata": {},
   "outputs": [],
   "source": [
    "# same as above, but on testing set\n",
    "probability_predictions_testing = model.predict_proba(X_test_scaled)\n",
    "positive_probability_predictions_testing = probability_predictions_testing[:,1]\n",
    "fpr_testing, tpr_testing, thresholds_testing = roc_curve(y_test, positive_probability_predictions_testing)"
   ]
  },
  {
   "cell_type": "code",
   "execution_count": 40,
   "metadata": {},
   "outputs": [
    {
     "data": {
      "text/plain": [
       "[<matplotlib.lines.Line2D at 0x1a1cdcc9b0>]"
      ]
     },
     "execution_count": 40,
     "metadata": {},
     "output_type": "execute_result"
    },
    {
     "data": {
      "image/png": "[encoded data removed]",
      "text/plain": [
       "<matplotlib.figure.Figure at 0x1a1cdc1e10>"
      ]
     },
     "metadata": {},
     "output_type": "display_data"
    }
   ],
   "source": [
    "plt.plot(fpr_testing, tpr_testing)"
   ]
  },
  {
   "cell_type": "code",
   "execution_count": 41,
   "metadata": {},
   "outputs": [
    {
     "name": "stdout",
     "output_type": "stream",
     "text": [
      "AUC:  0.853451874923\n"
     ]
    }
   ],
   "source": [
    "AUC_score_testing = roc_auc_score(y_test, positive_probability_predictions_testing)\n",
    "print('AUC: ', AUC_score_testing)"
   ]
  },
  {
   "cell_type": "code",
   "execution_count": 42,
   "metadata": {},
   "outputs": [
    {
     "name": "stdout",
     "output_type": "stream",
     "text": [
      "RevolvingUtilizationOfUnsecuredLines feature strength:  0.668744660949\n",
      "---------\n",
      "\n",
      "age feature strength:  -0.253813210136\n",
      "---------\n",
      "\n",
      "MonthlyIncome feature strength:  -0.273153054971\n",
      "---------\n",
      "\n",
      "NumberOfOpenCreditLinesAndLoans feature strength:  0.0774065735799\n",
      "---------\n",
      "\n",
      "NumberRealEstateLoansOrLines feature strength:  0.0437160956563\n",
      "---------\n",
      "\n",
      "NumberOfDependents feature strength:  0.0673400296753\n",
      "---------\n",
      "\n",
      "MonthlyCosts feature strength:  0.16196704772\n",
      "---------\n",
      "\n",
      "IncomePerDependent feature strength:  0.0724826279792\n",
      "---------\n",
      "\n",
      "NumTimesPastDue feature strength:  0.693916132214\n",
      "---------\n",
      "\n",
      "MonthlyIncome_above10000 feature strength:  -0.00515256820133\n",
      "---------\n",
      "\n",
      "NumTimesPastDue_below5 feature strength:  0.163647099435\n",
      "---------\n",
      "\n",
      "age_below21 feature strength:  -0.0215827205366\n",
      "---------\n",
      "\n",
      "age_above65 feature strength:  -0.0268959808726\n",
      "---------\n",
      "\n"
     ]
    }
   ],
   "source": [
    "coefficients = list(model.coef_)\n",
    "X_cols = list(X_train.columns)\n",
    "\n",
    "for i in range(0, len(coefficients[0])):\n",
    "    print(X_cols[i], 'feature strength: ', coefficients[0][i])\n",
    "    print('---------\\n')"
   ]
  },
  {
   "cell_type": "code",
   "execution_count": 52,
   "metadata": {},
   "outputs": [
    {
     "data": {
      "text/plain": [
       "array([[ 0.66874466, -0.25381321, -0.27315305,  0.07740657,  0.0437161 ,\n",
       "         0.06734003,  0.16196705,  0.07248263,  0.69391613, -0.00515257,\n",
       "         0.1636471 , -0.02158272, -0.02689598]])"
      ]
     },
     "execution_count": 52,
     "metadata": {},
     "output_type": "execute_result"
    }
   ],
   "source": [
    "model.coef_"
   ]
  },
  {
   "cell_type": "code",
   "execution_count": null,
   "metadata": {
    "collapsed": true
   },
   "outputs": [],
   "source": []
  },
  {
   "cell_type": "markdown",
   "metadata": {},
   "source": [
    "## Step 14: Hypertune Model Parameters"
   ]
  },
  {
   "cell_type": "code",
   "execution_count": null,
   "metadata": {
    "collapsed": true
   },
   "outputs": [],
   "source": []
  },
  {
   "cell_type": "code",
   "execution_count": null,
   "metadata": {
    "collapsed": true
   },
   "outputs": [],
   "source": []
  },
  {
   "cell_type": "code",
   "execution_count": null,
   "metadata": {
    "collapsed": true
   },
   "outputs": [],
   "source": []
  },
  {
   "cell_type": "code",
   "execution_count": null,
   "metadata": {
    "collapsed": true
   },
   "outputs": [],
   "source": []
  },
  {
   "cell_type": "code",
   "execution_count": null,
   "metadata": {
    "collapsed": true
   },
   "outputs": [],
   "source": []
  },
  {
   "cell_type": "markdown",
   "metadata": {},
   "source": [
    "## Step 15: Try Other Models"
   ]
  },
  {
   "cell_type": "code",
   "execution_count": null,
   "metadata": {
    "collapsed": true
   },
   "outputs": [],
   "source": []
  },
  {
   "cell_type": "code",
   "execution_count": null,
   "metadata": {
    "collapsed": true
   },
   "outputs": [],
   "source": []
  },
  {
   "cell_type": "code",
   "execution_count": null,
   "metadata": {
    "collapsed": true
   },
   "outputs": [],
   "source": []
  },
  {
   "cell_type": "code",
   "execution_count": null,
   "metadata": {
    "collapsed": true
   },
   "outputs": [],
   "source": []
  },
  {
   "cell_type": "code",
   "execution_count": null,
   "metadata": {},
   "outputs": [],
   "source": []
  },
  {
   "cell_type": "markdown",
   "metadata": {},
   "source": [
    "## Step 16: Export Best Model"
   ]
  },
  {
   "cell_type": "code",
   "execution_count": 44,
   "metadata": {},
   "outputs": [
    {
     "data": {
      "text/plain": [
       "['../model/trained_default_model_v1.pkl']"
      ]
     },
     "execution_count": 44,
     "metadata": {},
     "output_type": "execute_result"
    }
   ],
   "source": [
    "from sklearn.externals import joblib\n",
    "\n",
    "joblib.dump(model, '../model/trained_default_model_v1.pkl')"
   ]
  },
  {
   "cell_type": "code",
   "execution_count": null,
   "metadata": {},
   "outputs": [],
   "source": []
  }
 ],
 "metadata": {
  "kernelspec": {
   "display_name": "Python 3",
   "language": "python",
   "name": "python3"
  },
  "language_info": {
   "codemirror_mode": {
    "name": "ipython",
    "version": 3
   },
   "file_extension": ".py",
   "mimetype": "text/x-python",
   "name": "python",
   "nbconvert_exporter": "python",
   "pygments_lexer": "ipython3",
   "version": "3.6.3"
  }
 },
 "nbformat": 4,
 "nbformat_minor": 2
}
