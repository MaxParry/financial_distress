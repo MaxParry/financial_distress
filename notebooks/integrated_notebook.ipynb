{
 "cells": [
  {
   "cell_type": "markdown",
   "metadata": {
    "collapsed": true
   },
   "source": [
    "# Predicting Financial Distress Notebook\n",
    "- Dataset can be found at: https://www.kaggle.com/c/GiveMeSomeCredit\n",
    "    - Contains historical data on 150,000 borrowers\n",
    "        - Labels are binary: defaulted or didn't default (SeriousDlqin2yrs)\n",
    "    - Goal is to predict default risk on holdout set"
   ]
  },
  {
   "cell_type": "code",
   "execution_count": 1,
   "metadata": {},
   "outputs": [],
   "source": [
    "# Import dependencies\n",
    "%matplotlib inline\n",
    "import matplotlib.pyplot as plt\n",
    "import numpy as np\n",
    "import pandas as pd\n",
    "\n",
    "\n",
    "from sklearn.datasets import make_regression\n",
    "from sklearn.model_selection import train_test_split\n",
    "from sklearn.preprocessing import StandardScaler\n",
    "\n",
    "from collections import Counter\n",
    "\n",
    "import seaborn as sns"
   ]
  },
  {
   "cell_type": "code",
   "execution_count": 2,
   "metadata": {},
   "outputs": [],
   "source": [
    "# Read CSV\n",
    "#df = pd.read_csv('../data/cs-test.csv')\n",
    "df = pd.read_csv('../data/cs-training.csv')\n",
    "df = df.drop('Unnamed: 0', axis=1)"
   ]
  },
  {
   "cell_type": "code",
   "execution_count": 3,
   "metadata": {},
   "outputs": [],
   "source": [
    "#print(len(df))\n",
    "#df = df.dropna()\n",
    "#print(len(df))"
   ]
  },
  {
   "cell_type": "code",
   "execution_count": 4,
   "metadata": {},
   "outputs": [],
   "source": [
    "# Clean column names\n",
    "cleanCol = []\n",
    "for i in range(len(df.columns)):\n",
    "    cleanCol.append(df.columns[i].replace('-', 'to'))\n",
    "    \n",
    "df.columns = cleanCol"
   ]
  },
  {
   "cell_type": "code",
   "execution_count": 5,
   "metadata": {},
   "outputs": [],
   "source": [
    "# Calculate std dev values\n",
    "def findStd(series,num):\n",
    "    mean = series.mean()\n",
    "    stdDev = series.std()\n",
    "    std_pos = mean + num*stdDev\n",
    "    std_neg = mean - num*stdDev\n",
    "    \n",
    "    stdValues = {\n",
    "        'std+': std_pos,\n",
    "        'std-': std_neg\n",
    "    }\n",
    "    \n",
    "    return stdValues"
   ]
  },
  {
   "cell_type": "code",
   "execution_count": 6,
   "metadata": {},
   "outputs": [],
   "source": [
    "def standardizeValues(dfColumn,stdRet,columnName,classifier='mean',compareColumn='N/A',lookupTable='N/A'):\n",
    "    if classifier == 'lookup':\n",
    "        df.loc[dfColumn.isnull(),columnName] = compareColumn.map(lookupTable)\n",
    "        df.loc[dfColumn>stdRet['std+'],columnName] = compareColumn.map(lookupTable)\n",
    "        df.loc[dfColumn<stdRet['std-'],columnName] = compareColumn.map(lookupTable)\n",
    "    elif classifier == 'median':\n",
    "        df.loc[dfColumn.isnull(),columnName] = dfColumn.median()\n",
    "        df.loc[dfColumn>stdRet['std+'],columnName] = dfColumn.median()\n",
    "        df.loc[dfColumn<stdRet['std-'],columnName] = dfColumn.median()\n",
    "    else:\n",
    "        df.loc[dfColumn.isnull(),columnName] = dfColumn.mean()\n",
    "        df.loc[dfColumn>stdRet['std+'],columnName] = dfColumn.mean()\n",
    "        df.loc[dfColumn<stdRet['std-'],columnName] = dfColumn.mean()"
   ]
  },
  {
   "cell_type": "code",
   "execution_count": 7,
   "metadata": {},
   "outputs": [],
   "source": [
    "def standardizePlaceholders(dfColumn,columnName,classifier='mean'):\n",
    "    if classifier == 'median':\n",
    "        df.loc[dfColumn==98,columnName] = dfColumn.median()\n",
    "        df.loc[dfColumn==96,columnName] = dfColumn.median()\n",
    "        \n",
    "    else:\n",
    "        df.loc[dfColumn==98,columnName] = dfColumn.mean()\n",
    "        df.loc[dfColumn==98,columnName] = dfColumn.mean()"
   ]
  },
  {
   "cell_type": "code",
   "execution_count": 8,
   "metadata": {},
   "outputs": [],
   "source": [
    "# Get std deviation and replace outliers\n",
    "ageStd = findStd(df.age,3)\n",
    "standardizeValues(df.age,ageStd,'age')\n",
    "df.age = df.age.astype(int)"
   ]
  },
  {
   "cell_type": "code",
   "execution_count": 9,
   "metadata": {},
   "outputs": [],
   "source": [
    "# Drop NAN from OG DF\n",
    "df_MI = df[['age','MonthlyIncome']]"
   ]
  },
  {
   "cell_type": "code",
   "execution_count": 10,
   "metadata": {},
   "outputs": [],
   "source": [
    "df_MIsansNAN = df_MI.dropna(axis=0, how='any')\n",
    "\n",
    "# Remove Income Outliers outside of 3 STD\n",
    "df_MIsansNAN_std = df_MIsansNAN[np.abs(df_MIsansNAN.MonthlyIncome-df_MIsansNAN.MonthlyIncome.mean())<=(3*df_MIsansNAN.MonthlyIncome.std())]"
   ]
  },
  {
   "cell_type": "code",
   "execution_count": 11,
   "metadata": {},
   "outputs": [],
   "source": [
    "# Create lookup table for mean per age\n",
    "ageSalaryLookup = pd.DataFrame(df_MIsansNAN_std.groupby(['age']).MonthlyIncome.mean())"
   ]
  },
  {
   "cell_type": "code",
   "execution_count": 12,
   "metadata": {},
   "outputs": [],
   "source": [
    "# Find all values 3x std\n",
    "incomeStd = findStd(df_MIsansNAN_std.MonthlyIncome,3)\n",
    "standardizeValues(df.MonthlyIncome,incomeStd,'MonthlyIncome','lookup',df.age,ageSalaryLookup.MonthlyIncome)"
   ]
  },
  {
   "cell_type": "code",
   "execution_count": 13,
   "metadata": {},
   "outputs": [],
   "source": [
    "# Define deviation and replace outliers\n",
    "revLnStd = {'std+': 2, 'std-': 0}\n",
    "standardizeValues(df.RevolvingUtilizationOfUnsecuredLines,revLnStd,'RevolvingUtilizationOfUnsecuredLines','median')"
   ]
  },
  {
   "cell_type": "code",
   "execution_count": 14,
   "metadata": {},
   "outputs": [],
   "source": [
    "# Replace placeholders with the median\n",
    "standardizePlaceholders(df.NumberOfTime30to59DaysPastDueNotWorse,'NumberOfTime30to59DaysPastDueNotWorse','median')"
   ]
  },
  {
   "cell_type": "code",
   "execution_count": 15,
   "metadata": {},
   "outputs": [],
   "source": [
    "debtRatioStd = {'std+': 2, 'std-': 0}\n",
    "standardizeValues(df.DebtRatio,debtRatioStd,'DebtRatio','median')"
   ]
  },
  {
   "cell_type": "code",
   "execution_count": 16,
   "metadata": {},
   "outputs": [],
   "source": [
    "# Replace placeholders with the median\n",
    "standardizePlaceholders(df.NumberOfTimes90DaysLate,'NumberOfTimes90DaysLate','median')\n",
    "df.NumberOfTimes90DaysLate = df.NumberOfTimes90DaysLate.astype(int)"
   ]
  },
  {
   "cell_type": "code",
   "execution_count": 17,
   "metadata": {},
   "outputs": [],
   "source": [
    "# Replace placeholders with the median\n",
    "standardizePlaceholders(df.NumberOfTime60to89DaysPastDueNotWorse,'NumberOfTime60to89DaysPastDueNotWorse','median')\n",
    "df.NumberOfTime60to89DaysPastDueNotWorse = df.NumberOfTime60to89DaysPastDueNotWorse.astype(int)"
   ]
  },
  {
   "cell_type": "code",
   "execution_count": 18,
   "metadata": {},
   "outputs": [],
   "source": [
    "# Drop NAN from OG DF\n",
    "df_D = df[['NumberOfDependents']]\n",
    "df_DsansNAN = df_D.dropna(axis=0, how='any')"
   ]
  },
  {
   "cell_type": "code",
   "execution_count": 19,
   "metadata": {},
   "outputs": [],
   "source": [
    "# Define deviation and replace outliers\n",
    "depStd = {'std+': df.NumberOfDependents.max(), 'std-': df.NumberOfDependents.min()}\n",
    "standardizeValues(df.NumberOfDependents,depStd,'NumberOfDependents','median')"
   ]
  },
  {
   "cell_type": "code",
   "execution_count": 20,
   "metadata": {},
   "outputs": [
    {
     "data": {
      "text/html": [
       "<div>\n",
       "<style scoped>\n",
       "    .dataframe tbody tr th:only-of-type {\n",
       "        vertical-align: middle;\n",
       "    }\n",
       "\n",
       "    .dataframe tbody tr th {\n",
       "        vertical-align: top;\n",
       "    }\n",
       "\n",
       "    .dataframe thead th {\n",
       "        text-align: right;\n",
       "    }\n",
       "</style>\n",
       "<table border=\"1\" class=\"dataframe\">\n",
       "  <thead>\n",
       "    <tr style=\"text-align: right;\">\n",
       "      <th></th>\n",
       "      <th>SeriousDlqin2yrs</th>\n",
       "      <th>RevolvingUtilizationOfUnsecuredLines</th>\n",
       "      <th>age</th>\n",
       "      <th>NumberOfTime30to59DaysPastDueNotWorse</th>\n",
       "      <th>DebtRatio</th>\n",
       "      <th>MonthlyIncome</th>\n",
       "      <th>NumberOfOpenCreditLinesAndLoans</th>\n",
       "      <th>NumberOfTimes90DaysLate</th>\n",
       "      <th>NumberRealEstateLoansOrLines</th>\n",
       "      <th>NumberOfTime60to89DaysPastDueNotWorse</th>\n",
       "      <th>NumberOfDependents</th>\n",
       "    </tr>\n",
       "  </thead>\n",
       "  <tbody>\n",
       "    <tr>\n",
       "      <th>count</th>\n",
       "      <td>150000.000000</td>\n",
       "      <td>150000.000000</td>\n",
       "      <td>150000.000000</td>\n",
       "      <td>150000.000000</td>\n",
       "      <td>150000.000000</td>\n",
       "      <td>150000.000000</td>\n",
       "      <td>150000.000000</td>\n",
       "      <td>150000.000000</td>\n",
       "      <td>150000.000000</td>\n",
       "      <td>150000.000000</td>\n",
       "      <td>150000.000000</td>\n",
       "    </tr>\n",
       "    <tr>\n",
       "      <th>mean</th>\n",
       "      <td>0.066840</td>\n",
       "      <td>0.319924</td>\n",
       "      <td>52.281313</td>\n",
       "      <td>0.245353</td>\n",
       "      <td>0.344349</td>\n",
       "      <td>6114.110913</td>\n",
       "      <td>8.452760</td>\n",
       "      <td>0.090293</td>\n",
       "      <td>1.018240</td>\n",
       "      <td>0.064707</td>\n",
       "      <td>0.737413</td>\n",
       "    </tr>\n",
       "    <tr>\n",
       "      <th>std</th>\n",
       "      <td>0.249746</td>\n",
       "      <td>0.355123</td>\n",
       "      <td>14.748528</td>\n",
       "      <td>0.697231</td>\n",
       "      <td>0.263902</td>\n",
       "      <td>3336.776302</td>\n",
       "      <td>5.145951</td>\n",
       "      <td>0.485107</td>\n",
       "      <td>1.129771</td>\n",
       "      <td>0.329788</td>\n",
       "      <td>1.107021</td>\n",
       "    </tr>\n",
       "    <tr>\n",
       "      <th>min</th>\n",
       "      <td>0.000000</td>\n",
       "      <td>0.000000</td>\n",
       "      <td>21.000000</td>\n",
       "      <td>0.000000</td>\n",
       "      <td>0.000000</td>\n",
       "      <td>0.000000</td>\n",
       "      <td>0.000000</td>\n",
       "      <td>0.000000</td>\n",
       "      <td>0.000000</td>\n",
       "      <td>0.000000</td>\n",
       "      <td>0.000000</td>\n",
       "    </tr>\n",
       "    <tr>\n",
       "      <th>25%</th>\n",
       "      <td>0.000000</td>\n",
       "      <td>0.029867</td>\n",
       "      <td>41.000000</td>\n",
       "      <td>0.000000</td>\n",
       "      <td>0.175074</td>\n",
       "      <td>3800.000000</td>\n",
       "      <td>5.000000</td>\n",
       "      <td>0.000000</td>\n",
       "      <td>0.000000</td>\n",
       "      <td>0.000000</td>\n",
       "      <td>0.000000</td>\n",
       "    </tr>\n",
       "    <tr>\n",
       "      <th>50%</th>\n",
       "      <td>0.000000</td>\n",
       "      <td>0.154178</td>\n",
       "      <td>52.000000</td>\n",
       "      <td>0.000000</td>\n",
       "      <td>0.366506</td>\n",
       "      <td>5900.000000</td>\n",
       "      <td>8.000000</td>\n",
       "      <td>0.000000</td>\n",
       "      <td>1.000000</td>\n",
       "      <td>0.000000</td>\n",
       "      <td>0.000000</td>\n",
       "    </tr>\n",
       "    <tr>\n",
       "      <th>75%</th>\n",
       "      <td>0.000000</td>\n",
       "      <td>0.552810</td>\n",
       "      <td>63.000000</td>\n",
       "      <td>0.000000</td>\n",
       "      <td>0.405709</td>\n",
       "      <td>7405.250000</td>\n",
       "      <td>11.000000</td>\n",
       "      <td>0.000000</td>\n",
       "      <td>2.000000</td>\n",
       "      <td>0.000000</td>\n",
       "      <td>1.000000</td>\n",
       "    </tr>\n",
       "    <tr>\n",
       "      <th>max</th>\n",
       "      <td>1.000000</td>\n",
       "      <td>1.998676</td>\n",
       "      <td>96.000000</td>\n",
       "      <td>13.000000</td>\n",
       "      <td>2.000000</td>\n",
       "      <td>20087.000000</td>\n",
       "      <td>58.000000</td>\n",
       "      <td>17.000000</td>\n",
       "      <td>54.000000</td>\n",
       "      <td>11.000000</td>\n",
       "      <td>20.000000</td>\n",
       "    </tr>\n",
       "  </tbody>\n",
       "</table>\n",
       "</div>"
      ],
      "text/plain": [
       "       SeriousDlqin2yrs  RevolvingUtilizationOfUnsecuredLines            age  \\\n",
       "count     150000.000000                         150000.000000  150000.000000   \n",
       "mean           0.066840                              0.319924      52.281313   \n",
       "std            0.249746                              0.355123      14.748528   \n",
       "min            0.000000                              0.000000      21.000000   \n",
       "25%            0.000000                              0.029867      41.000000   \n",
       "50%            0.000000                              0.154178      52.000000   \n",
       "75%            0.000000                              0.552810      63.000000   \n",
       "max            1.000000                              1.998676      96.000000   \n",
       "\n",
       "       NumberOfTime30to59DaysPastDueNotWorse      DebtRatio  MonthlyIncome  \\\n",
       "count                          150000.000000  150000.000000  150000.000000   \n",
       "mean                                0.245353       0.344349    6114.110913   \n",
       "std                                 0.697231       0.263902    3336.776302   \n",
       "min                                 0.000000       0.000000       0.000000   \n",
       "25%                                 0.000000       0.175074    3800.000000   \n",
       "50%                                 0.000000       0.366506    5900.000000   \n",
       "75%                                 0.000000       0.405709    7405.250000   \n",
       "max                                13.000000       2.000000   20087.000000   \n",
       "\n",
       "       NumberOfOpenCreditLinesAndLoans  NumberOfTimes90DaysLate  \\\n",
       "count                    150000.000000            150000.000000   \n",
       "mean                          8.452760                 0.090293   \n",
       "std                           5.145951                 0.485107   \n",
       "min                           0.000000                 0.000000   \n",
       "25%                           5.000000                 0.000000   \n",
       "50%                           8.000000                 0.000000   \n",
       "75%                          11.000000                 0.000000   \n",
       "max                          58.000000                17.000000   \n",
       "\n",
       "       NumberRealEstateLoansOrLines  NumberOfTime60to89DaysPastDueNotWorse  \\\n",
       "count                 150000.000000                          150000.000000   \n",
       "mean                       1.018240                               0.064707   \n",
       "std                        1.129771                               0.329788   \n",
       "min                        0.000000                               0.000000   \n",
       "25%                        0.000000                               0.000000   \n",
       "50%                        1.000000                               0.000000   \n",
       "75%                        2.000000                               0.000000   \n",
       "max                       54.000000                              11.000000   \n",
       "\n",
       "       NumberOfDependents  \n",
       "count       150000.000000  \n",
       "mean             0.737413  \n",
       "std              1.107021  \n",
       "min              0.000000  \n",
       "25%              0.000000  \n",
       "50%              0.000000  \n",
       "75%              1.000000  \n",
       "max             20.000000  "
      ]
     },
     "execution_count": 20,
     "metadata": {},
     "output_type": "execute_result"
    }
   ],
   "source": [
    "df.describe()"
   ]
  },
  {
   "cell_type": "code",
   "execution_count": null,
   "metadata": {},
   "outputs": [],
   "source": []
  },
  {
   "cell_type": "code",
   "execution_count": null,
   "metadata": {},
   "outputs": [],
   "source": []
  },
  {
   "cell_type": "markdown",
   "metadata": {},
   "source": [
    "### Add MonthlyCosts column"
   ]
  },
  {
   "cell_type": "code",
   "execution_count": 21,
   "metadata": {},
   "outputs": [],
   "source": [
    "# write function to multiply DebtRatio by MonthlyIncome and put the result in a new column\n",
    "def add_monthlycosts_column(dataframe):\n",
    "    dataframe_copy = dataframe.copy()\n",
    "    dataframe_copy['MonthlyCosts'] = dataframe_copy['DebtRatio'] * dataframe_copy['MonthlyIncome']\n",
    "    \n",
    "    return dataframe_copy"
   ]
  },
  {
   "cell_type": "markdown",
   "metadata": {},
   "source": [
    "### Add IncomePerDependent column"
   ]
  },
  {
   "cell_type": "code",
   "execution_count": 22,
   "metadata": {},
   "outputs": [],
   "source": [
    "# write function to divide MonthlyIncome by (NumberOfDependents + 1) and put the result in a new column\n",
    "def add_incomeperdependent_column(dataframe):\n",
    "    dataframe_copy = dataframe.copy()\n",
    "    dataframe_copy['IncomePerDependent'] = dataframe_copy['MonthlyIncome'] / (dataframe_copy['NumberOfDependents'] + 1)\n",
    "    \n",
    "    return dataframe_copy"
   ]
  },
  {
   "cell_type": "markdown",
   "metadata": {},
   "source": [
    "### Add NumTimesPastDue column"
   ]
  },
  {
   "cell_type": "code",
   "execution_count": 23,
   "metadata": {},
   "outputs": [],
   "source": [
    "# write function to divide MonthlyIncome by (NumberOfDependents + 1) and put the result in a new column\n",
    "# the function also drops the original columns\n",
    "def add_numtimespastdue_column(dataframe):\n",
    "    dataframe_copy = dataframe.copy()\n",
    "    dataframe_copy['NumTimesPastDue'] = (dataframe_copy['NumberOfTime30to59DaysPastDueNotWorse'] +\n",
    "                                         dataframe_copy['NumberOfTime60to89DaysPastDueNotWorse'] +\n",
    "                                         dataframe_copy['NumberOfTimes90DaysLate'])\n",
    "    \n",
    "    dataframe_copy = dataframe_copy.drop('NumberOfTime30to59DaysPastDueNotWorse', axis=1)\n",
    "    dataframe_copy = dataframe_copy.drop('NumberOfTime60to89DaysPastDueNotWorse', axis=1)\n",
    "    dataframe_copy = dataframe_copy.drop('NumberOfTimes90DaysLate', axis=1)\n",
    "    \n",
    "    return dataframe_copy"
   ]
  },
  {
   "cell_type": "markdown",
   "metadata": {},
   "source": [
    "### Function to write indicator variable columns:"
   ]
  },
  {
   "cell_type": "code",
   "execution_count": 24,
   "metadata": {},
   "outputs": [],
   "source": [
    "# define function to label rows with high monthly income with a 1 (in a new column)\n",
    "def add_indicator_column(dataframe, threshold, column_name, direction='above'):\n",
    "    dataframe_copy = dataframe.copy()\n",
    "    labels = []\n",
    "    if direction == 'above':\n",
    "        for index, row in dataframe_copy.iterrows():\n",
    "            value = row[column_name]\n",
    "            if value >= threshold:\n",
    "                labels.append(float(1))\n",
    "            elif value < threshold:\n",
    "                labels.append(float(0))\n",
    "            else:\n",
    "                print('Error in add_indicator_column(): Base case reached')\n",
    "    elif direction == 'below':\n",
    "        for index, row in dataframe_copy.iterrows():\n",
    "            value = row[column_name]\n",
    "            if value <= threshold:\n",
    "                labels.append(float(1))\n",
    "            elif value > threshold:\n",
    "                labels.append(float(0))\n",
    "            else:\n",
    "                print('Error in add_indicator_column(): Base case reached')\n",
    "    if len(dataframe_copy) == len(labels):\n",
    "        dataframe_copy[(str(column_name) + '_' + str(direction) + str(threshold))] = pd.Series(labels)\n",
    "    else:\n",
    "        print('Error in add_indicator_column(): Missing labels')\n",
    "    return dataframe_copy"
   ]
  },
  {
   "cell_type": "markdown",
   "metadata": {},
   "source": []
  },
  {
   "cell_type": "code",
   "execution_count": null,
   "metadata": {},
   "outputs": [],
   "source": []
  },
  {
   "cell_type": "code",
   "execution_count": 25,
   "metadata": {},
   "outputs": [],
   "source": [
    "# outside of function\n",
    "\n",
    "# feature engineering steps\n",
    "# dataframe_copy = add_incomeoverrevolving_column(dataframe_copy)\n",
    "\n",
    "\n",
    "df = add_monthlycosts_column(df)\n",
    "\n",
    "df = add_incomeperdependent_column(df)\n",
    "df = add_numtimespastdue_column(df)\n",
    "df = add_indicator_column(df, 10000, 'MonthlyIncome', direction='above')\n",
    "df = add_indicator_column(df, 5, 'NumTimesPastDue', direction='below')\n",
    "df = add_indicator_column(df, 21, 'age', direction='below')\n",
    "df = add_indicator_column(df, 65, 'age', direction='above')"
   ]
  },
  {
   "cell_type": "code",
   "execution_count": 26,
   "metadata": {},
   "outputs": [],
   "source": [
    "    \n",
    "# dropping multicollinear features\n",
    "df = df.drop('DebtRatio', axis=1)"
   ]
  },
  {
   "cell_type": "markdown",
   "metadata": {},
   "source": [
    "### Check for multicollinearity\n",
    "- new features, new possible multicollinearities"
   ]
  },
  {
   "cell_type": "code",
   "execution_count": 27,
   "metadata": {},
   "outputs": [
    {
     "data": {
      "text/plain": [
       "<matplotlib.axes._subplots.AxesSubplot at 0x10dacf828>"
      ]
     },
     "execution_count": 27,
     "metadata": {},
     "output_type": "execute_result"
    },
    {
     "data": {
      "image/png": "[encoded data removed]",
      "text/plain": [
       "<matplotlib.figure.Figure at 0x1a165dd940>"
      ]
     },
     "metadata": {},
     "output_type": "display_data"
    }
   ],
   "source": [
    "plt.figure(figsize=(11,9))\n",
    "sns.heatmap(df.corr(), annot=True, fmt=\".1g\")\n",
    "#plt.savefig('../static/images/heatmap_2_after_cleaning_and_engineering.png')"
   ]
  },
  {
   "cell_type": "code",
   "execution_count": null,
   "metadata": {},
   "outputs": [],
   "source": []
  },
  {
   "cell_type": "code",
   "execution_count": 28,
   "metadata": {},
   "outputs": [],
   "source": [
    "# for kaggle\n",
    "# X_test_kaggle = df.drop('SeriousDlqin2yrs', axis=1)\n",
    "# X_test_scaled_kaggle = X_scaler.transform(X_test_kaggle)"
   ]
  },
  {
   "cell_type": "code",
   "execution_count": null,
   "metadata": {},
   "outputs": [],
   "source": []
  },
  {
   "cell_type": "markdown",
   "metadata": {},
   "source": [
    "## Fit Scaler and Transform Data\n"
   ]
  },
  {
   "cell_type": "code",
   "execution_count": 29,
   "metadata": {},
   "outputs": [],
   "source": [
    "X = df.drop('SeriousDlqin2yrs', axis=1)\n",
    "y = df.SeriousDlqin2yrs"
   ]
  },
  {
   "cell_type": "code",
   "execution_count": 30,
   "metadata": {},
   "outputs": [],
   "source": [
    "from sklearn.model_selection import train_test_split\n",
    "\n",
    "X_train, X_test, y_train, y_test = train_test_split(X, y, random_state=42)"
   ]
  },
  {
   "cell_type": "code",
   "execution_count": 31,
   "metadata": {},
   "outputs": [],
   "source": [
    "# fit StandardScaler and use it to transform both training and testing data\n",
    "from sklearn.preprocessing import StandardScaler\n",
    "\n",
    "X_scaler = StandardScaler().fit(X_train)\n",
    "\n",
    "X_train_scaled = X_scaler.transform(X_train)\n",
    "X_test_scaled = X_scaler.transform(X_test)"
   ]
  },
  {
   "cell_type": "code",
   "execution_count": null,
   "metadata": {},
   "outputs": [],
   "source": []
  },
  {
   "cell_type": "code",
   "execution_count": null,
   "metadata": {},
   "outputs": [],
   "source": []
  },
  {
   "cell_type": "code",
   "execution_count": null,
   "metadata": {},
   "outputs": [],
   "source": []
  },
  {
   "cell_type": "code",
   "execution_count": null,
   "metadata": {},
   "outputs": [],
   "source": []
  },
  {
   "cell_type": "markdown",
   "metadata": {},
   "source": [
    "## Fit Model and Make Predictions\n",
    "- will try:\n",
    "    - Logistic Regression\n",
    "    - Random Forest\n",
    "    - Gradient Boosted Classifier\n",
    "    \n",
    "#### Note: What is returned from ```model.predict_proba()``` is an array with the probability of each class for a given row\n",
    "- negative class (no default in our case) is in the first column of the array, positive in the second\n",
    "- ```roc_curve()``` function takes at least two arguments:\n",
    "    - first, the true labels\n",
    "    - second, the probability of the positive class (defaulted, in our case)"
   ]
  },
  {
   "cell_type": "code",
   "execution_count": 32,
   "metadata": {},
   "outputs": [],
   "source": [
    "from sklearn.linear_model import LogisticRegression\n",
    "from sklearn.ensemble import RandomForestClassifier, GradientBoostingClassifier\n",
    "from sklearn.metrics import roc_curve, roc_auc_score"
   ]
  },
  {
   "cell_type": "code",
   "execution_count": 33,
   "metadata": {},
   "outputs": [],
   "source": [
    "# define function to make ROC curves:\n",
    "def plot_ROC(fpr, tpr, title, AUC, label=None):\n",
    "    \n",
    "    fig, ax = plt.subplots(1)\n",
    "    props = dict(boxstyle='round', facecolor='wheat', alpha=0.5)\n",
    "    ax.text(0.05, 0.95, ('AUC: ' + str(AUC)), transform=ax.transAxes, fontsize=14,\n",
    "        verticalalignment='top', bbox=props)\n",
    "    plt.plot(fpr, tpr, linewidth=2, label=label)\n",
    "    plt.plot([0,1],[0,1], \"k--\")\n",
    "    plt.axis([0,1,0,1])\n",
    "    plt.xlabel(\"False Positive Rate\")\n",
    "    plt.ylabel(\"True Positive Rate\")\n",
    "    plt.title(title)\n",
    "    "
   ]
  },
  {
   "cell_type": "markdown",
   "metadata": {},
   "source": [
    "### Logistic Regression"
   ]
  },
  {
   "cell_type": "code",
   "execution_count": 34,
   "metadata": {},
   "outputs": [
    {
     "name": "stdout",
     "output_type": "stream",
     "text": [
      "LR AUC Training: 0.854405858638\n",
      "LR AUC Testing: 0.854979880172\n"
     ]
    },
    {
     "data": {
      "image/png": "[encoded data removed]",
      "text/plain": [
       "<matplotlib.figure.Figure at 0x1a1f9752b0>"
      ]
     },
     "metadata": {},
     "output_type": "display_data"
    }
   ],
   "source": [
    "# instantiate logistic regression model\n",
    "lr_model = LogisticRegression(penalty='l2',\n",
    "                           dual=False,\n",
    "                           tol=0.0001,\n",
    "                           C=1.0,\n",
    "                           fit_intercept=True,\n",
    "                           intercept_scaling=1,\n",
    "                           class_weight='balanced',\n",
    "                           random_state=None,\n",
    "                           solver='liblinear',\n",
    "                           max_iter=100,\n",
    "                           multi_class='ovr',\n",
    "                           verbose=0,\n",
    "                           warm_start=False,\n",
    "                           n_jobs=1)\n",
    "\n",
    "#lr_model = LogisticRegression()\n",
    "\n",
    "lr_model.fit(X_train_scaled, y_train)\n",
    "lr_probability_predictions_training = lr_model.predict_proba(X_train_scaled)[:,1]\n",
    "lr_probability_predictions_testing = lr_model.predict_proba(X_test_scaled)[:,1]\n",
    "\n",
    "lr_fpr_testing, lr_tpr_testing, lr_thresholds_testing = roc_curve(y_test, lr_probability_predictions_testing)\n",
    "\n",
    "print('LR AUC Training:', roc_auc_score(y_train, lr_probability_predictions_training))\n",
    "print('LR AUC Testing:', roc_auc_score(y_test, lr_probability_predictions_testing))\n",
    "#plt.title('LR Model Testing Predictions\\n ROC Curve')\n",
    "#plt.xlabel('False Positive Rate')\n",
    "#plt.ylabel('True Positive Rate')\n",
    "#plt.plot(lr_fpr_testing, lr_tpr_testing)\n",
    "plot_ROC(lr_fpr_testing, lr_tpr_testing, 'Logistic Regression Model ROC Curve: Testing Set', roc_auc_score(y_test, lr_probability_predictions_testing))\n",
    "#plt.savefig('../static/images/ROC_3_lr_after_engineering.png')"
   ]
  },
  {
   "cell_type": "markdown",
   "metadata": {},
   "source": [
    "#### Check model coefficients to gauge feature importance (LogReg only)"
   ]
  },
  {
   "cell_type": "code",
   "execution_count": 38,
   "metadata": {},
   "outputs": [
    {
     "name": "stdout",
     "output_type": "stream",
     "text": [
      "RevolvingUtilizationOfUnsecuredLines feature strength:  0.722076294204\n",
      "---------\n",
      "age feature strength:  -0.277439090516\n",
      "---------\n",
      "MonthlyIncome feature strength:  -0.302852163067\n",
      "---------\n",
      "NumberOfOpenCreditLinesAndLoans feature strength:  0.137420701945\n",
      "---------\n",
      "NumberRealEstateLoansOrLines feature strength:  0.0613520789476\n",
      "---------\n",
      "NumberOfDependents feature strength:  0.0705370142621\n",
      "---------\n",
      "MonthlyCosts feature strength:  0.164676376932\n",
      "---------\n",
      "IncomePerDependent feature strength:  0.0763477487758\n",
      "---------\n",
      "NumTimesPastDue feature strength:  0.908126403589\n",
      "---------\n",
      "MonthlyIncome_above10000 feature strength:  0.0252494201048\n",
      "---------\n",
      "NumTimesPastDue_below5 feature strength:  0.248274399008\n",
      "---------\n",
      "age_below21 feature strength:  -0.0181550160799\n",
      "---------\n",
      "age_above65 feature strength:  -0.0138824969109\n",
      "---------\n"
     ]
    }
   ],
   "source": [
    "coefficients = list(lr_model.coef_)\n",
    "X_cols = list(X_train.columns)\n",
    "\n",
    "for i in range(0, len(coefficients[0])):\n",
    "    print(X_cols[i], 'feature strength: ', coefficients[0][i])\n",
    "    print('---------')"
   ]
  },
  {
   "cell_type": "code",
   "execution_count": 39,
   "metadata": {},
   "outputs": [
    {
     "data": {
      "text/plain": [
       "array([[ 0.72207629, -0.27743909, -0.30285216,  0.1374207 ,  0.06135208,\n",
       "         0.07053701,  0.16467638,  0.07634775,  0.9081264 ,  0.02524942,\n",
       "         0.2482744 , -0.01815502, -0.0138825 ]])"
      ]
     },
     "execution_count": 39,
     "metadata": {},
     "output_type": "execute_result"
    }
   ],
   "source": [
    "lr_model.coef_"
   ]
  },
  {
   "cell_type": "markdown",
   "metadata": {},
   "source": [
    "### Random Forest"
   ]
  },
  {
   "cell_type": "code",
   "execution_count": 40,
   "metadata": {},
   "outputs": [
    {
     "name": "stdout",
     "output_type": "stream",
     "text": [
      "RF AUC Training: 0.893148111232\n",
      "RF AUC Testing: 0.863634454466\n"
     ]
    },
    {
     "data": {
      "image/png": "[encoded data removed]",
      "text/plain": [
       "<matplotlib.figure.Figure at 0x1a20258780>"
      ]
     },
     "metadata": {},
     "output_type": "display_data"
    }
   ],
   "source": [
    "# instantiate random forest classifier\n",
    "from sklearn.ensemble import RandomForestClassifier\n",
    "\n",
    "rf_model = RandomForestClassifier(n_estimators=1000,\n",
    "                               criterion='gini',\n",
    "                               max_depth=None,\n",
    "                               min_samples_split=2,\n",
    "                               min_samples_leaf=80,\n",
    "                               min_weight_fraction_leaf=0.0,\n",
    "                               max_features='auto',\n",
    "                               max_leaf_nodes=None,\n",
    "                               min_impurity_decrease=0.0,\n",
    "                               min_impurity_split=None,\n",
    "                               bootstrap=True,\n",
    "                               oob_score=False,\n",
    "                               n_jobs=-1,\n",
    "                               random_state=None,\n",
    "                               verbose=0,\n",
    "                               warm_start=False,\n",
    "                               class_weight=None)\n",
    "\n",
    "#rf_model = RandomForestClassifier()\n",
    "\n",
    "rf_model.fit(X_train_scaled, y_train)\n",
    "rf_probability_predictions_training = rf_model.predict_proba(X_train_scaled)[:,1]\n",
    "rf_probability_predictions_testing = rf_model.predict_proba(X_test_scaled)[:,1]\n",
    "\n",
    "rf_fpr_testing, rf_tpr_testing, rf_thresholds_testing = roc_curve(y_test, rf_probability_predictions_testing)\n",
    "\n",
    "print('RF AUC Training:', roc_auc_score(y_train, rf_probability_predictions_training))\n",
    "print('RF AUC Testing:', roc_auc_score(y_test, rf_probability_predictions_testing))\n",
    "#plt.title('RF Model Testing Predictions\\n ROC Curve')\n",
    "#plt.xlabel('False Positive Rate')\n",
    "#plt.ylabel('True Positive Rate')\n",
    "#plt.plot(rf_fpr_testing, rf_tpr_testing)\n",
    "plot_ROC(rf_fpr_testing, rf_tpr_testing, 'Random Forest Model ROC Curve: Testing Set', roc_auc_score(y_test, rf_probability_predictions_testing))\n",
    "#plt.savefig('../static/images/ROC_7_rf_after_tuning.png')"
   ]
  },
  {
   "cell_type": "code",
   "execution_count": 42,
   "metadata": {},
   "outputs": [
    {
     "data": {
      "text/html": [
       "<div>\n",
       "<style scoped>\n",
       "    .dataframe tbody tr th:only-of-type {\n",
       "        vertical-align: middle;\n",
       "    }\n",
       "\n",
       "    .dataframe tbody tr th {\n",
       "        vertical-align: top;\n",
       "    }\n",
       "\n",
       "    .dataframe thead th {\n",
       "        text-align: right;\n",
       "    }\n",
       "</style>\n",
       "<table border=\"1\" class=\"dataframe\">\n",
       "  <thead>\n",
       "    <tr style=\"text-align: right;\">\n",
       "      <th></th>\n",
       "      <th>importance</th>\n",
       "    </tr>\n",
       "  </thead>\n",
       "  <tbody>\n",
       "    <tr>\n",
       "      <th>NumTimesPastDue</th>\n",
       "      <td>4.845021e-01</td>\n",
       "    </tr>\n",
       "    <tr>\n",
       "      <th>RevolvingUtilizationOfUnsecuredLines</th>\n",
       "      <td>2.465756e-01</td>\n",
       "    </tr>\n",
       "    <tr>\n",
       "      <th>NumTimesPastDue_below5</th>\n",
       "      <td>8.986993e-02</td>\n",
       "    </tr>\n",
       "    <tr>\n",
       "      <th>NumberOfOpenCreditLinesAndLoans</th>\n",
       "      <td>3.973698e-02</td>\n",
       "    </tr>\n",
       "    <tr>\n",
       "      <th>age</th>\n",
       "      <td>3.520585e-02</td>\n",
       "    </tr>\n",
       "    <tr>\n",
       "      <th>MonthlyCosts</th>\n",
       "      <td>2.960392e-02</td>\n",
       "    </tr>\n",
       "    <tr>\n",
       "      <th>MonthlyIncome</th>\n",
       "      <td>2.634800e-02</td>\n",
       "    </tr>\n",
       "    <tr>\n",
       "      <th>IncomePerDependent</th>\n",
       "      <td>2.356108e-02</td>\n",
       "    </tr>\n",
       "    <tr>\n",
       "      <th>NumberRealEstateLoansOrLines</th>\n",
       "      <td>1.053824e-02</td>\n",
       "    </tr>\n",
       "    <tr>\n",
       "      <th>age_above65</th>\n",
       "      <td>7.737817e-03</td>\n",
       "    </tr>\n",
       "    <tr>\n",
       "      <th>NumberOfDependents</th>\n",
       "      <td>4.847315e-03</td>\n",
       "    </tr>\n",
       "    <tr>\n",
       "      <th>MonthlyIncome_above10000</th>\n",
       "      <td>1.472791e-03</td>\n",
       "    </tr>\n",
       "    <tr>\n",
       "      <th>age_below21</th>\n",
       "      <td>3.928313e-07</td>\n",
       "    </tr>\n",
       "  </tbody>\n",
       "</table>\n",
       "</div>"
      ],
      "text/plain": [
       "                                        importance\n",
       "NumTimesPastDue                       4.845021e-01\n",
       "RevolvingUtilizationOfUnsecuredLines  2.465756e-01\n",
       "NumTimesPastDue_below5                8.986993e-02\n",
       "NumberOfOpenCreditLinesAndLoans       3.973698e-02\n",
       "age                                   3.520585e-02\n",
       "MonthlyCosts                          2.960392e-02\n",
       "MonthlyIncome                         2.634800e-02\n",
       "IncomePerDependent                    2.356108e-02\n",
       "NumberRealEstateLoansOrLines          1.053824e-02\n",
       "age_above65                           7.737817e-03\n",
       "NumberOfDependents                    4.847315e-03\n",
       "MonthlyIncome_above10000              1.472791e-03\n",
       "age_below21                           3.928313e-07"
      ]
     },
     "execution_count": 42,
     "metadata": {},
     "output_type": "execute_result"
    }
   ],
   "source": [
    "rf_feature_importances = pd.DataFrame(rf_model.feature_importances_,\n",
    "                                      index = X_train.columns,\n",
    "                                      columns=['importance']).sort_values('importance', ascending=False)\n",
    "rf_feature_importances"
   ]
  },
  {
   "cell_type": "markdown",
   "metadata": {},
   "source": [
    "### Gradient Boosted Model"
   ]
  },
  {
   "cell_type": "code",
   "execution_count": 43,
   "metadata": {},
   "outputs": [
    {
     "name": "stdout",
     "output_type": "stream",
     "text": [
      "GBM AUC Training: 0.874877298021\n",
      "GBM AUC Testing: 0.863815519939\n"
     ]
    },
    {
     "data": {
      "image/png": "[encoded data removed]",
      "text/plain": [
       "<matplotlib.figure.Figure at 0x1a15fa29e8>"
      ]
     },
     "metadata": {},
     "output_type": "display_data"
    }
   ],
   "source": [
    "# instantiate gradient boosting classifier\n",
    "from sklearn.ensemble import GradientBoostingClassifier\n",
    "\n",
    "gbm_model = GradientBoostingClassifier(loss='exponential',\n",
    "                           learning_rate=0.11,\n",
    "                           n_estimators=253,\n",
    "                           subsample=1.0,\n",
    "                           criterion='friedman_mse',\n",
    "                           min_samples_split=14,\n",
    "                           min_samples_leaf=2,\n",
    "                           min_weight_fraction_leaf=0.0,\n",
    "                           max_depth=3,\n",
    "                           min_impurity_decrease=0.0,\n",
    "                           min_impurity_split=None,\n",
    "                           init=None,\n",
    "                           random_state=None,\n",
    "                           max_features=None,\n",
    "                           verbose=0,\n",
    "                           max_leaf_nodes=None,\n",
    "                           warm_start=False,\n",
    "                           presort='auto')\n",
    "\n",
    "#gbm_model = GradientBoostingClassifier()\n",
    "\n",
    "gbm_model.fit(X_train_scaled, y_train)\n",
    "gbm_probability_predictions_training = gbm_model.predict_proba(X_train_scaled)[:,1]\n",
    "gbm_probability_predictions_testing = gbm_model.predict_proba(X_test_scaled)[:,1]\n",
    "\n",
    "gbm_fpr_testing, gbm_tpr_testing, gbm_thresholds_testing = roc_curve(y_test, gbm_probability_predictions_testing)\n",
    "\n",
    "print('GBM AUC Training:', roc_auc_score(y_train, gbm_probability_predictions_training))\n",
    "print('GBM AUC Testing:', roc_auc_score(y_test, gbm_probability_predictions_testing))\n",
    "#plt.title('GBM Model Testing Predictions\\n ROC Curve')\n",
    "#plt.xlabel('False Positive Rate')\n",
    "#plt.ylabel('True Positive Rate')\n",
    "#plt.plot(gbm_fpr_testing, gbm_tpr_testing)\n",
    "plot_ROC(gbm_fpr_testing, gbm_tpr_testing, 'Gradient Boosted Model ROC Curve: Testing Set', roc_auc_score(y_test, gbm_probability_predictions_testing))\n",
    "#plt.savefig('../static/images/ROC_8_gbm_after_tuning.png')"
   ]
  },
  {
   "cell_type": "code",
   "execution_count": 44,
   "metadata": {},
   "outputs": [
    {
     "data": {
      "text/html": [
       "<div>\n",
       "<style scoped>\n",
       "    .dataframe tbody tr th:only-of-type {\n",
       "        vertical-align: middle;\n",
       "    }\n",
       "\n",
       "    .dataframe tbody tr th {\n",
       "        vertical-align: top;\n",
       "    }\n",
       "\n",
       "    .dataframe thead th {\n",
       "        text-align: right;\n",
       "    }\n",
       "</style>\n",
       "<table border=\"1\" class=\"dataframe\">\n",
       "  <thead>\n",
       "    <tr style=\"text-align: right;\">\n",
       "      <th></th>\n",
       "      <th>importance</th>\n",
       "    </tr>\n",
       "  </thead>\n",
       "  <tbody>\n",
       "    <tr>\n",
       "      <th>MonthlyCosts</th>\n",
       "      <td>0.223903</td>\n",
       "    </tr>\n",
       "    <tr>\n",
       "      <th>RevolvingUtilizationOfUnsecuredLines</th>\n",
       "      <td>0.184256</td>\n",
       "    </tr>\n",
       "    <tr>\n",
       "      <th>IncomePerDependent</th>\n",
       "      <td>0.122046</td>\n",
       "    </tr>\n",
       "    <tr>\n",
       "      <th>NumTimesPastDue</th>\n",
       "      <td>0.108637</td>\n",
       "    </tr>\n",
       "    <tr>\n",
       "      <th>age</th>\n",
       "      <td>0.107965</td>\n",
       "    </tr>\n",
       "    <tr>\n",
       "      <th>NumberOfOpenCreditLinesAndLoans</th>\n",
       "      <td>0.101738</td>\n",
       "    </tr>\n",
       "    <tr>\n",
       "      <th>MonthlyIncome</th>\n",
       "      <td>0.095358</td>\n",
       "    </tr>\n",
       "    <tr>\n",
       "      <th>NumberRealEstateLoansOrLines</th>\n",
       "      <td>0.036360</td>\n",
       "    </tr>\n",
       "    <tr>\n",
       "      <th>NumberOfDependents</th>\n",
       "      <td>0.018444</td>\n",
       "    </tr>\n",
       "    <tr>\n",
       "      <th>NumTimesPastDue_below5</th>\n",
       "      <td>0.001117</td>\n",
       "    </tr>\n",
       "    <tr>\n",
       "      <th>age_below21</th>\n",
       "      <td>0.000177</td>\n",
       "    </tr>\n",
       "    <tr>\n",
       "      <th>MonthlyIncome_above10000</th>\n",
       "      <td>0.000000</td>\n",
       "    </tr>\n",
       "    <tr>\n",
       "      <th>age_above65</th>\n",
       "      <td>0.000000</td>\n",
       "    </tr>\n",
       "  </tbody>\n",
       "</table>\n",
       "</div>"
      ],
      "text/plain": [
       "                                      importance\n",
       "MonthlyCosts                            0.223903\n",
       "RevolvingUtilizationOfUnsecuredLines    0.184256\n",
       "IncomePerDependent                      0.122046\n",
       "NumTimesPastDue                         0.108637\n",
       "age                                     0.107965\n",
       "NumberOfOpenCreditLinesAndLoans         0.101738\n",
       "MonthlyIncome                           0.095358\n",
       "NumberRealEstateLoansOrLines            0.036360\n",
       "NumberOfDependents                      0.018444\n",
       "NumTimesPastDue_below5                  0.001117\n",
       "age_below21                             0.000177\n",
       "MonthlyIncome_above10000                0.000000\n",
       "age_above65                             0.000000"
      ]
     },
     "execution_count": 44,
     "metadata": {},
     "output_type": "execute_result"
    }
   ],
   "source": [
    "gbm_feature_importances = pd.DataFrame(gbm_model.feature_importances_,\n",
    "                                      index = X_train.columns,\n",
    "                                      columns=['importance']).sort_values('importance', ascending=False)\n",
    "gbm_feature_importances"
   ]
  },
  {
   "cell_type": "markdown",
   "metadata": {},
   "source": [
    "## Hypertune Model Parameters\n",
    "\n",
    "- raw model AUC:  0.853451874923 (634 on leaderboard)\n",
    "- w/ class_weight='balanced': 0.854979880172 (616 on leaderboard)\n",
    "- random forest with min_samples_leaf=100: 0.858824995133 (557 on leaderboard)\n",
    "- random forest with min_samples_leaf=100 and n_estimators=1000: 0.863349803531 (454 on leaderboard)\n",
    "- random forest with min_samples_leaf=100 and n_estimators=1000 and class_weight='balanced': lower than above\n",
    "- random forest with min_samples_leaf=80 and n_estimators=1000: 0.863535535224 (448 on leaderboard)\n",
    "- random forest with min_samples_leaf=80 and n_estimators=10000: 0.863556241934 (445 on leaderboard)\n",
    "- random forest with min_samples_leaf=80, n_estimators=1000, max_depth=5: 0.863556241934 (445 on leaderboard)\n",
    "- ensemble of:\n",
    "    - random forest with min_samples_leaf=80, n_estimators=1000, max_depth=5\n",
    "    - gradient boosted classifier with loss='exponential', n_estimators=200, min_samples_leaf=14\n",
    "        - AUC: 0.86471986676183676 (287 on leaderboard)\n"
   ]
  },
  {
   "cell_type": "markdown",
   "metadata": {},
   "source": [
    "### Logistic Regression"
   ]
  },
  {
   "cell_type": "code",
   "execution_count": null,
   "metadata": {},
   "outputs": [],
   "source": [
    "# # logistic regression parameter tuning loop\n",
    "\n",
    "# #parameter_options = np.arange(10,50,5) 2, 80\n",
    "# parameter_options = [1000, 2000]\n",
    "\n",
    "# for parameter in parameter_options:\n",
    "\n",
    "#     lr_model = LogisticRegression(penalty='l2',\n",
    "#                            dual=False,\n",
    "#                            tol=0.0001,\n",
    "#                            C=1.0,\n",
    "#                            fit_intercept=True,\n",
    "#                            intercept_scaling=1,\n",
    "#                            class_weight='balanced',\n",
    "#                            random_state=None,\n",
    "#                            solver='liblinear',\n",
    "#                            max_iter=100,\n",
    "#                            multi_class='ovr',\n",
    "#                            verbose=0,\n",
    "#                            warm_start=False,\n",
    "#                            n_jobs=1)\n",
    "\n",
    "#     lr_model.fit(X_train_scaled, y_train)\n",
    "        \n",
    "#     lr_model_class_probability_predictions = lr_model.predict_proba(X_test_scaled)\n",
    "#     lr_model_default_predictions = lr_model_class_probability_predictions[:,1]\n",
    "        \n",
    "#     print(\"Parameter\", parameter,\"AUC - ROC : \", roc_auc_score(y_test, lr_model_default_predictions))\n",
    "#     plt.ylim(0.85, 0.87)\n",
    "#     plt.bar(parameter, roc_auc_score(y_test, lr_model_default_predictions))"
   ]
  },
  {
   "cell_type": "markdown",
   "metadata": {},
   "source": [
    "### Random Forest"
   ]
  },
  {
   "cell_type": "code",
   "execution_count": null,
   "metadata": {},
   "outputs": [],
   "source": [
    "# # random forest parameter tuning loop\n",
    "\n",
    "# #parameter_options = np.arange(10,50,5) 2, 80\n",
    "# parameter_options = [1000, 2000]\n",
    "\n",
    "# for parameter in parameter_options:\n",
    "\n",
    "#     rf_model = RandomForestClassifier(n_estimators=1000, \n",
    "#                                    criterion='gini',\n",
    "#                                    max_depth=None,\n",
    "#                                    min_samples_split=2,\n",
    "#                                    min_samples_leaf=80,\n",
    "#                                    min_weight_fraction_leaf=0.0,\n",
    "#                                    max_features='auto',\n",
    "#                                    max_leaf_nodes=None,\n",
    "#                                    min_impurity_decrease=0.0,\n",
    "#                                    min_impurity_split=None,\n",
    "#                                    bootstrap=True,\n",
    "#                                    oob_score=False,\n",
    "#                                    n_jobs=-1,\n",
    "#                                    random_state=None,\n",
    "#                                    verbose=0,\n",
    "#                                    warm_start=False,\n",
    "#                                    class_weight=None)\n",
    "\n",
    "#     rf_model.fit(X_train_scaled, y_train)\n",
    "        \n",
    "#     rf_model_class_probability_predictions = rf_model.predict_proba(X_test_scaled)\n",
    "#     rf_model_default_predictions = rf_model_class_probability_predictions[:,1]\n",
    "        \n",
    "#     print(\"Parameter\", parameter,\"AUC - ROC : \", roc_auc_score(y_test, rf_model_default_predictions))\n",
    "#     plt.ylim(0.85, 0.87)\n",
    "#     plt.bar(parameter, roc_auc_score(y_test, rf_model_default_predictions))"
   ]
  },
  {
   "cell_type": "markdown",
   "metadata": {},
   "source": [
    "### Gradient Boosted Classifier"
   ]
  },
  {
   "cell_type": "code",
   "execution_count": null,
   "metadata": {},
   "outputs": [],
   "source": [
    "# # gradient boosted classifier parameter tuning loop\n",
    "\n",
    "# #parameter_options = np.arange(10,50,5) 2, 80\n",
    "# parameter_options = [1000, 2000]\n",
    "\n",
    "# for parameter in parameter_options:\n",
    "\n",
    "#     gbm_model = GradientBoostingClassifier(loss='exponential',\n",
    "#                            learning_rate=0.11,\n",
    "#                            n_estimators=253,\n",
    "#                            subsample=1.0,\n",
    "#                            criterion='friedman_mse',\n",
    "#                            min_samples_split=14,\n",
    "#                            min_samples_leaf=2,\n",
    "#                            min_weight_fraction_leaf=0.0,\n",
    "#                            max_depth=3,\n",
    "#                            min_impurity_decrease=0.0,\n",
    "#                            min_impurity_split=None,\n",
    "#                            init=None,\n",
    "#                            random_state=None,\n",
    "#                            max_features=None,\n",
    "#                            verbose=0,\n",
    "#                            max_leaf_nodes=None,\n",
    "#                            warm_start=False,\n",
    "#                            presort='auto')\n",
    "\n",
    "#     gbm_model.fit(X_train_scaled, y_train)\n",
    "        \n",
    "#     gbm_model_class_probability_predictions = gbm_model.predict_proba(X_test_scaled)\n",
    "#     gbm_model_default_predictions = gbm_model_class_probability_predictions[:,1]\n",
    "        \n",
    "#     print(\"Parameter\", parameter,\"AUC - ROC : \", roc_auc_score(y_test, gbm_model_default_predictions))\n",
    "#     plt.ylim(0.85, 0.87)\n",
    "#     plt.bar(parameter, roc_auc_score(y_test, gbm_model_default_predictions))"
   ]
  },
  {
   "cell_type": "code",
   "execution_count": null,
   "metadata": {},
   "outputs": [],
   "source": []
  },
  {
   "cell_type": "code",
   "execution_count": null,
   "metadata": {},
   "outputs": [],
   "source": []
  },
  {
   "cell_type": "markdown",
   "metadata": {},
   "source": [
    "## Test Ensemble of Best Models\n",
    "- Will test ensemble of two best models, rf and gbm"
   ]
  },
  {
   "cell_type": "code",
   "execution_count": null,
   "metadata": {},
   "outputs": [],
   "source": [
    "# average of two arrays\n",
    "ensemble_predictions_testing = (rf_probability_predictions_testing + gbm_probability_predictions_testing) / 2\n",
    "ensemble_predictions_training = (rf_probability_predictions_training + gbm_probability_predictions_training) / 2\n",
    "ensemble_predictions_testing                 "
   ]
  },
  {
   "cell_type": "code",
   "execution_count": null,
   "metadata": {},
   "outputs": [],
   "source": [
    "# generate ROC curve for ensemble\n",
    "print('Ensemble AUC Training:', roc_auc_score(y_train, ensemble_predictions_training))\n",
    "print('Ensemble AUC Testing:', roc_auc_score(y_test, ensemble_predictions_testing))\n",
    "\n",
    "ens_fpr_testing, ens_tpr_testing, ens_thresholds = roc_curve(y_test, ensemble_predictions_testing)\n",
    "plot_ROC(rf_fpr_testing, rf_tpr_testing, 'RF/GBM Ensemble Model ROC Curve: Testing Set', roc_auc_score(y_test, ensemble_predictions_testing))\n",
    "#plt.savefig('../static/images/ROC_9_ens_after_tuning.png')"
   ]
  },
  {
   "cell_type": "code",
   "execution_count": null,
   "metadata": {},
   "outputs": [],
   "source": [
    "#0.866255410637 (0.0)"
   ]
  },
  {
   "cell_type": "markdown",
   "metadata": {},
   "source": [
    "## Export Best Model(s)\n",
    "- for application, each model will be run, two outputs will be averaged.\n",
    "    - above 0.5 is 'will default'\n",
    "    - below 0.5 is 'won't default'"
   ]
  },
  {
   "cell_type": "code",
   "execution_count": null,
   "metadata": {},
   "outputs": [],
   "source": [
    "from sklearn.externals import joblib\n",
    "\n",
    "joblib.dump(rf_model, '../model/rf_model_v1.pkl')\n",
    "joblib.dump(gbm_model, '../model/gbm_model_v1.pkl')"
   ]
  },
  {
   "cell_type": "code",
   "execution_count": null,
   "metadata": {},
   "outputs": [],
   "source": [
    "# also pickle fitted scaler:\n",
    "joblib.dump(X_scaler, '../model/fitted_X_scaler_v1.pkl')"
   ]
  },
  {
   "cell_type": "markdown",
   "metadata": {},
   "source": [
    "#### Remember feature order for model.predict():\n"
   ]
  },
  {
   "cell_type": "code",
   "execution_count": null,
   "metadata": {},
   "outputs": [],
   "source": [
    "print('Argument # :  Feature')\n",
    "print('-----------------------')\n",
    "for i in range(0, len(X.columns)):\n",
    "    print(i, ': ', X.columns[i])"
   ]
  },
  {
   "cell_type": "code",
   "execution_count": null,
   "metadata": {},
   "outputs": [],
   "source": [
    "for col in newerdf.columns:\n",
    "    print(col)"
   ]
  },
  {
   "cell_type": "markdown",
   "metadata": {},
   "source": [
    "## Kaggle Submission (for fun)"
   ]
  },
  {
   "cell_type": "code",
   "execution_count": null,
   "metadata": {},
   "outputs": [],
   "source": [
    "# rf_predictions = rf_model.predict_proba(X_test_scaled_kaggle)[:,1]\n",
    "# gbm_predictions = gbm_model.predict_proba(X_test_scaled_kaggle)[:,1]\n",
    "# ensemble_predictions = (rf_predictions + gbm_predictions) / 2\n",
    "# ids = np.arange(1,101504)\n",
    "# submission = pd.DataFrame( {'Id': ids, 'Probability': ensemble_predictions})\n",
    "# submission.to_csv('kaggle_submission.csv', index=False)"
   ]
  },
  {
   "cell_type": "code",
   "execution_count": null,
   "metadata": {},
   "outputs": [],
   "source": [
    "def shapeItUp(df,training=False):\n",
    "    if (training):\n",
    "        df = add_monthlycosts_column(df)\n",
    "        df = add_numtimespastdue_column(df)\n",
    "    df = add_incomeperdependent_column(df)\n",
    "    df = add_indicator_column(df, 10000, 'MonthlyIncome', direction='above')\n",
    "    df = add_indicator_column(df, 5, 'NumTimesPastDue', direction='below')\n",
    "    df = add_indicator_column(df, 21, 'age', direction='below')\n",
    "    df = add_indicator_column(df, 65, 'age', direction='above')\n",
    "    # dropping multicollinear features\n",
    "    df = df.drop('DebtRatio', axis=1)\n",
    "    if(training):\n",
    "        df = df[['SeriousDlqin2yrs','RevolvingUtilizationOfUnsecuredLines', 'age',\n",
    "       'MonthlyIncome', 'NumberOfOpenCreditLinesAndLoans',\n",
    "       'NumberRealEstateLoansOrLines', 'NumberOfDependents', 'MonthlyCosts',\n",
    "       'IncomePerDependent', 'NumTimesPastDue', 'MonthlyIncome_above10000',\n",
    "       'NumTimesPastDue_below5', 'age_below21', 'age_above65']]\n",
    "    else:\n",
    "        df = df[['RevolvingUtilizationOfUnsecuredLines', 'age',\n",
    "       'MonthlyIncome', 'NumberOfOpenCreditLinesAndLoans',\n",
    "       'NumberRealEstateLoansOrLines', 'NumberOfDependents', 'MonthlyCosts',\n",
    "       'IncomePerDependent', 'NumTimesPastDue', 'MonthlyIncome_above10000',\n",
    "       'NumTimesPastDue_below5', 'age_below21', 'age_above65']]\n",
    "    return df"
   ]
  },
  {
   "cell_type": "code",
   "execution_count": null,
   "metadata": {},
   "outputs": [],
   "source": [
    "values = {'age': 42, 'MonthlyIncome': 3333.3333333333335, 'NumberOfDependents': 11, 'NumberOfOpenCreditLinesAndLoans': 17, 'RevolvingUtilizationOfUnsecuredLines': 10.0, 'NumberRealEstateLoansOrLines': 8, 'DebtRatio': 1.5, 'NumTimesPastDue': 19, 'MonthlyCosts': 5000}"
   ]
  },
  {
   "cell_type": "code",
   "execution_count": null,
   "metadata": {},
   "outputs": [],
   "source": [
    "newdf = pd.DataFrame(values, index=[0])"
   ]
  },
  {
   "cell_type": "code",
   "execution_count": null,
   "metadata": {},
   "outputs": [],
   "source": [
    "newerdf = shapeItUp(newdf)"
   ]
  },
  {
   "cell_type": "code",
   "execution_count": null,
   "metadata": {},
   "outputs": [],
   "source": [
    "newerdf = X_scaler.transform(newerdf)\n",
    "newerdf"
   ]
  },
  {
   "cell_type": "code",
   "execution_count": null,
   "metadata": {},
   "outputs": [],
   "source": [
    "print(rf_model.predict_proba(newerdf), rf_model.predict(newerdf))\n",
    "print(gbm_model.predict_proba(newerdf), gbm_model.predict(newerdf))"
   ]
  },
  {
   "cell_type": "code",
   "execution_count": null,
   "metadata": {},
   "outputs": [],
   "source": [
    "def findAvg(value1,value2):\n",
    "        return (value1+value2)/2\n",
    "\n",
    "findAvg(rf_model.predict_proba(newerdf)[0][1].item(), gbm_model.predict_proba(newerdf)[0][1].item())"
   ]
  },
  {
   "cell_type": "code",
   "execution_count": null,
   "metadata": {},
   "outputs": [],
   "source": [
    "0.15849977697670434\n",
    "0.155909"
   ]
  }
 ],
 "metadata": {
  "kernelspec": {
   "display_name": "Python 3",
   "language": "python",
   "name": "python3"
  },
  "language_info": {
   "codemirror_mode": {
    "name": "ipython",
    "version": 3
   },
   "file_extension": ".py",
   "mimetype": "text/x-python",
   "name": "python",
   "nbconvert_exporter": "python",
   "pygments_lexer": "ipython3",
   "version": "3.6.3"
  }
 },
 "nbformat": 4,
 "nbformat_minor": 2
}
